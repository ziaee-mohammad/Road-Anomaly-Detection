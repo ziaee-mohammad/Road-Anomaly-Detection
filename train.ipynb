{
 "cells": [
  {
   "cell_type": "code",
   "execution_count": 1,
   "id": "15410d6e",
   "metadata": {},
   "outputs": [],
   "source": [
    "from ultralytics import YOLO\n",
    "import os\n",
    "import torch\n",
    "import yaml  \n",
    "from pathlib import Path\n"
   ]
  },
  {
   "cell_type": "markdown",
   "id": "7eca1683",
   "metadata": {},
   "source": [
    "# Configuration Settings\n",
    "## Path to your dataset configuration file"
   ]
  },
  {
   "cell_type": "code",
   "execution_count": null,
   "id": "6c1918b2",
   "metadata": {},
   "outputs": [],
   "source": [
    "DATA_PATH = (\n",
    "    r\"Road-Anomaly-Detection\\dataset\\data.yaml\"\n",
    ")"
   ]
  },
  {
   "cell_type": "markdown",
   "id": "a7d87d49",
   "metadata": {},
   "source": [
    "# Model selection\n"
   ]
  },
  {
   "cell_type": "code",
   "execution_count": 3,
   "id": "33209756",
   "metadata": {},
   "outputs": [],
   "source": [
    "MODEL_SIZE = \"yolov8m.pt\"\n"
   ]
  },
  {
   "cell_type": "markdown",
   "id": "28831226",
   "metadata": {},
   "source": [
    "# Training settings\n"
   ]
  },
  {
   "cell_type": "code",
   "execution_count": null,
   "id": "83f7ad0d",
   "metadata": {},
   "outputs": [],
   "source": [
    "TRAINING_ROUNDS = 120  \n",
    "IMAGE_SIZE = 640  # input images size\n",
    "BATCH_SIZE = 9  \n",
    "PATIENCE = 25  # stopes if no improvement\n",
    "SAVE_FOLDER = \"RoadDetectionModel\"\n",
    "RUN_NAME = f\"RoadModel_{MODEL_SIZE}_rounds{TRAINING_ROUNDS}_b{BATCH_SIZE}\" \n",
    "\n"
   ]
  },
  {
   "cell_type": "code",
   "execution_count": null,
   "id": "dfdea817",
   "metadata": {},
   "outputs": [],
   "source": [
    "def check_system_resources():\n",
    "    if torch.cuda.is_available():\n",
    "        gpu_name = torch.cuda.get_device_name(0)\n",
    "        memory_gb = torch.cuda.get_device_properties(0).total_memory / (1024**3)\n",
    "\n",
    "        print(f\"✓ GPU detected: {gpu_name}\")\n",
    "        print(f\"✓ GPU memory: {memory_gb:.1f} GB\")\n",
    "\n",
    "        if memory_gb < 4:\n",
    "            print(f\"⚠ Low GPU memory detected (<4GB). Recommended batch size: 2-4.\")\n",
    "            if BATCH_SIZE > 4:\n",
    "                print(f\"‼ Your current batch size ({BATCH_SIZE}) is likely TOO HIGH.\")\n",
    "        elif memory_gb < 8:\n",
    "            print(\n",
    "                f\"ℹ Medium GPU memory detected ({memory_gb:.1f}GB). Recommended max batch size: 8-12 for yolov8m.\"\n",
    "            )\n",
    "            if BATCH_SIZE > 12:\n",
    "                print(f\"‼ Your current batch size ({BATCH_SIZE}) might be too high.\")\n",
    "            elif BATCH_SIZE > 8:\n",
    "                print(\n",
    "                    f\"⚠ Your current batch size ({BATCH_SIZE}) is ambitious. Monitor memory usage.\"\n",
    "                )\n",
    "        else:\n",
    "            print(f\"✓ Sufficient GPU memory for selected batch size ({BATCH_SIZE})\")\n",
    "    else:\n",
    "        print(\"⚠ No GPU detected - training will be very slow on CPU\")\n",
    "        if BATCH_SIZE > 4:\n",
    "            print(\"⚠ Reduce batch size to 2-4 for CPU training\")\n",
    "\n"
   ]
  },
  {
   "cell_type": "code",
   "execution_count": null,
   "id": "91b2a35f",
   "metadata": {},
   "outputs": [],
   "source": [
    "def display_results(metrics, class_names):\n",
    "    print(\"\\n--- Model Performance Summary (Test Set) ---\")\n",
    "\n",
    "    print(f\"\\nOverall Detection Metrics:\")\n",
    "    print(\n",
    "        f\"  ├─ mAP@.5:.95: {metrics.box.map:.1%}\"\n",
    "    ) \n",
    "    print(\n",
    "        f\"  └─ mAP@.5:    {metrics.box.map50:.1%}\"\n",
    "    )\n",
    "\n",
    "    # Per-class metrics\n",
    "    print(f\"\\nPer-Class Performance (mAP):\")\n",
    "    if len(class_names) == len(metrics.box.maps):\n",
    "        for i, class_name in enumerate(class_names.values()):\n",
    "            map50_95 = metrics.box.maps[i]\n",
    "            map50 = metrics.box.ap50[i]  # ap50 contains the per-class mAP@0.5 scores\n",
    "            print(f\"  {class_name}:\")\n",
    "            print(f\"    ├─ mAP@.5:.95: {map50_95:.1%}\")\n",
    "            print(f\"    └─ mAP@.5:    {map50:.1%}\")\n",
    "    else:\n",
    "        print(\n",
    "            \"Warning: Number of class names doesn't match number of metrics returned.\"\n",
    "        )\n",
    "        print(\"Raw maps:\", metrics.box.maps)\n",
    "        print(\"Raw ap50:\", metrics.box.ap50)"
   ]
  },
  {
   "cell_type": "code",
   "execution_count": null,
   "id": "533fe479",
   "metadata": {},
   "outputs": [
    {
     "name": "stdout",
     "output_type": "stream",
     "text": [
      "\n",
      "=== Road Defect Detection Model Training ===\n",
      "\n",
      "✓ GPU detected: NVIDIA GeForce RTX 3060 Laptop GPU\n",
      "✓ GPU memory: 6.0 GB\n",
      "ℹ Medium GPU memory detected (6.0GB). Recommended max batch size: 8-12 for yolov8m.\n",
      "⚠ Your current batch size (9) is ambitious. Monitor memory usage.\n",
      "\n",
      "Loading model: yolov8m.pt\n",
      "\n",
      "Starting training:\n",
      "  - Dataset Config: C:\\Users\\Navneet Sharma\\Documents\\GitHub\\Road-Anomaly-Detection\\dataset\\data.yaml\n",
      "  - Training Rounds: 120\n",
      "  - Image Size: 640\n",
      "  - Batch Size: 9\n",
      "  - Patience: 25\n",
      "  - Saving to: RoadDetectionModel/RoadModel_yolov8m.pt_rounds120_b9\n",
      "New https://pypi.org/project/ultralytics/8.3.118 available  Update with 'pip install -U ultralytics'\n",
      "Ultralytics 8.3.116  Python-3.9.21 torch-2.7.0+cu128 CUDA:0 (NVIDIA GeForce RTX 3060 Laptop GPU, 6144MiB)\n",
      "\u001b[34m\u001b[1mengine\\trainer: \u001b[0mtask=detect, mode=train, model=yolov8m.pt, data=C:\\Users\\Navneet Sharma\\Documents\\GitHub\\Road-Anomaly-Detection\\dataset\\data.yaml, epochs=120, time=None, patience=25, batch=9, imgsz=640, save=True, save_period=-1, cache=False, device=None, workers=8, project=RoadDetectionModel, name=RoadModel_yolov8m.pt_rounds120_b9, exist_ok=False, pretrained=True, optimizer=auto, verbose=True, seed=0, deterministic=True, single_cls=False, rect=False, cos_lr=False, close_mosaic=10, resume=False, amp=True, fraction=1.0, profile=False, freeze=None, multi_scale=False, overlap_mask=True, mask_ratio=4, dropout=0.0, val=True, split=val, save_json=False, conf=None, iou=0.7, max_det=300, half=False, dnn=False, plots=True, source=None, vid_stride=1, stream_buffer=False, visualize=False, augment=False, agnostic_nms=False, classes=None, retina_masks=False, embed=None, show=False, save_frames=False, save_txt=False, save_conf=False, save_crop=False, show_labels=True, show_conf=True, show_boxes=True, line_width=None, format=torchscript, keras=False, optimize=False, int8=False, dynamic=False, simplify=True, opset=None, workspace=None, nms=False, lr0=0.01, lrf=0.01, momentum=0.937, weight_decay=0.0005, warmup_epochs=3.0, warmup_momentum=0.8, warmup_bias_lr=0.1, box=7.5, cls=0.5, dfl=1.5, pose=12.0, kobj=1.0, nbs=64, hsv_h=0.015, hsv_s=0.7, hsv_v=0.4, degrees=0.0, translate=0.1, scale=0.5, shear=0.0, perspective=0.0, flipud=0.0, fliplr=0.5, bgr=0.0, mosaic=1.0, mixup=0.0, copy_paste=0.0, copy_paste_mode=flip, auto_augment=randaugment, erasing=0.4, cfg=None, tracker=botsort.yaml, save_dir=RoadDetectionModel\\RoadModel_yolov8m.pt_rounds120_b9\n",
      "Overriding model.yaml nc=80 with nc=7\n",
      "\n",
      "                   from  n    params  module                                       arguments                     \n",
      "  0                  -1  1      1392  ultralytics.nn.modules.conv.Conv             [3, 48, 3, 2]                 \n",
      "  1                  -1  1     41664  ultralytics.nn.modules.conv.Conv             [48, 96, 3, 2]                \n",
      "  2                  -1  2    111360  ultralytics.nn.modules.block.C2f             [96, 96, 2, True]             \n",
      "  3                  -1  1    166272  ultralytics.nn.modules.conv.Conv             [96, 192, 3, 2]               \n",
      "  4                  -1  4    813312  ultralytics.nn.modules.block.C2f             [192, 192, 4, True]           \n",
      "  5                  -1  1    664320  ultralytics.nn.modules.conv.Conv             [192, 384, 3, 2]              \n",
      "  6                  -1  4   3248640  ultralytics.nn.modules.block.C2f             [384, 384, 4, True]           \n",
      "  7                  -1  1   1991808  ultralytics.nn.modules.conv.Conv             [384, 576, 3, 2]              \n",
      "  8                  -1  2   3985920  ultralytics.nn.modules.block.C2f             [576, 576, 2, True]           \n",
      "  9                  -1  1    831168  ultralytics.nn.modules.block.SPPF            [576, 576, 5]                 \n",
      " 10                  -1  1         0  torch.nn.modules.upsampling.Upsample         [None, 2, 'nearest']          \n",
      " 11             [-1, 6]  1         0  ultralytics.nn.modules.conv.Concat           [1]                           \n",
      " 12                  -1  2   1993728  ultralytics.nn.modules.block.C2f             [960, 384, 2]                 \n",
      " 13                  -1  1         0  torch.nn.modules.upsampling.Upsample         [None, 2, 'nearest']          \n",
      " 14             [-1, 4]  1         0  ultralytics.nn.modules.conv.Concat           [1]                           \n",
      " 15                  -1  2    517632  ultralytics.nn.modules.block.C2f             [576, 192, 2]                 \n",
      " 16                  -1  1    332160  ultralytics.nn.modules.conv.Conv             [192, 192, 3, 2]              \n",
      " 17            [-1, 12]  1         0  ultralytics.nn.modules.conv.Concat           [1]                           \n",
      " 18                  -1  2   1846272  ultralytics.nn.modules.block.C2f             [576, 384, 2]                 \n",
      " 19                  -1  1   1327872  ultralytics.nn.modules.conv.Conv             [384, 384, 3, 2]              \n",
      " 20             [-1, 9]  1         0  ultralytics.nn.modules.conv.Concat           [1]                           \n",
      " 21                  -1  2   4207104  ultralytics.nn.modules.block.C2f             [960, 576, 2]                 \n",
      " 22        [15, 18, 21]  1   3779749  ultralytics.nn.modules.head.Detect           [7, [192, 384, 576]]          \n",
      "Model summary: 169 layers, 25,860,373 parameters, 25,860,357 gradients, 79.1 GFLOPs\n",
      "\n",
      "Transferred 469/475 items from pretrained weights\n",
      "\u001b[34m\u001b[1mTensorBoard: \u001b[0mStart with 'tensorboard --logdir RoadDetectionModel\\RoadModel_yolov8m.pt_rounds120_b9', view at http://localhost:6006/\n",
      "Freezing layer 'model.22.dfl.conv.weight'\n",
      "\u001b[34m\u001b[1mAMP: \u001b[0mrunning Automatic Mixed Precision (AMP) checks...\n",
      "Downloading https://github.com/ultralytics/assets/releases/download/v8.3.0/yolo11n.pt to 'yolo11n.pt'...\n"
     ]
    },
    {
     "name": "stderr",
     "output_type": "stream",
     "text": [
      "100%|██████████| 5.35M/5.35M [00:24<00:00, 233kB/s] \n"
     ]
    },
    {
     "name": "stdout",
     "output_type": "stream",
     "text": [
      "\u001b[34m\u001b[1mAMP: \u001b[0mchecks passed \n",
      "\u001b[34m\u001b[1mtrain: \u001b[0mFast image access  (ping: 0.20.0 ms, read: 446.9339.0 MB/s, size: 1020.2 KB)\n"
     ]
    },
    {
     "name": "stderr",
     "output_type": "stream",
     "text": [
      "\u001b[34m\u001b[1mtrain: \u001b[0mScanning C:\\Users\\Navneet Sharma\\Documents\\GitHub\\Road-Anomaly-Detection\\dataset\\train\\labels.cache... 23321 images, 0 backgrounds, 13 corrupt: 100%|██████████| 23321/23321 [00:00<?, ?it/s]"
     ]
    },
    {
     "name": "stdout",
     "output_type": "stream",
     "text": [
      "\u001b[34m\u001b[1mtrain: \u001b[0mC:\\Users\\Navneet Sharma\\Documents\\GitHub\\Road-Anomaly-Detection\\dataset\\train\\images\\dataset4_DJI_20230707094615_0034_640_02_05.jpg: ignoring corrupt image/label: non-normalized or out of bounds coordinates [     1.0016]\n",
      "\u001b[34m\u001b[1mtrain: \u001b[0mC:\\Users\\Navneet Sharma\\Documents\\GitHub\\Road-Anomaly-Detection\\dataset\\train\\images\\dataset4_DJI_20230707094904_0193_640_00_04.jpg: ignoring corrupt image/label: non-normalized or out of bounds coordinates [     1.0016]\n",
      "\u001b[34m\u001b[1mtrain: \u001b[0mC:\\Users\\Navneet Sharma\\Documents\\GitHub\\Road-Anomaly-Detection\\dataset\\train\\images\\dataset4_DJI_20230707094956_0244_640_07_06.jpg: ignoring corrupt image/label: non-normalized or out of bounds coordinates [     1.0078]\n",
      "\u001b[34m\u001b[1mtrain: \u001b[0mC:\\Users\\Navneet Sharma\\Documents\\GitHub\\Road-Anomaly-Detection\\dataset\\train\\images\\dataset4_DJI_20230707095024_0271_640_04_05.jpg: ignoring corrupt image/label: negative label values [   -0.15313]\n",
      "\u001b[34m\u001b[1mtrain: \u001b[0mC:\\Users\\Navneet Sharma\\Documents\\GitHub\\Road-Anomaly-Detection\\dataset\\train\\images\\dataset4_DJI_20230707095024_0271_640_04_06.jpg: ignoring corrupt image/label: negative label values [   -0.15313]\n",
      "\u001b[34m\u001b[1mtrain: \u001b[0mC:\\Users\\Navneet Sharma\\Documents\\GitHub\\Road-Anomaly-Detection\\dataset\\train\\images\\dataset4_DJI_20230707095032_0279_640_01_05.jpg: ignoring corrupt image/label: non-normalized or out of bounds coordinates [     1.0063]\n",
      "\u001b[34m\u001b[1mtrain: \u001b[0mC:\\Users\\Navneet Sharma\\Documents\\GitHub\\Road-Anomaly-Detection\\dataset\\train\\images\\dataset4_DJI_20230707095045_0292_640_04_04.jpg: ignoring corrupt image/label: non-normalized or out of bounds coordinates [     1.0047]\n",
      "\u001b[34m\u001b[1mtrain: \u001b[0mC:\\Users\\Navneet Sharma\\Documents\\GitHub\\Road-Anomaly-Detection\\dataset\\train\\images\\dataset4_DJI_20230707095056_0303_640_02_04.jpg: ignoring corrupt image/label: non-normalized or out of bounds coordinates [     1.0031]\n",
      "\u001b[34m\u001b[1mtrain: \u001b[0mC:\\Users\\Navneet Sharma\\Documents\\GitHub\\Road-Anomaly-Detection\\dataset\\train\\images\\dataset4_DJI_20230707095056_0303_640_07_05.jpg: ignoring corrupt image/label: non-normalized or out of bounds coordinates [     1.0016]\n",
      "\u001b[34m\u001b[1mtrain: \u001b[0mC:\\Users\\Navneet Sharma\\Documents\\GitHub\\Road-Anomaly-Detection\\dataset\\train\\images\\dataset4_DJI_20230707095124_0330_640_02_10.jpg: ignoring corrupt image/label: non-normalized or out of bounds coordinates [     1.0031]\n",
      "\u001b[34m\u001b[1mtrain: \u001b[0mC:\\Users\\Navneet Sharma\\Documents\\GitHub\\Road-Anomaly-Detection\\dataset\\train\\images\\dataset4_DJI_20230707095144_0351_640_03_09.jpg: ignoring corrupt image/label: non-normalized or out of bounds coordinates [     1.0047]\n",
      "\u001b[34m\u001b[1mtrain: \u001b[0mC:\\Users\\Navneet Sharma\\Documents\\GitHub\\Road-Anomaly-Detection\\dataset\\train\\images\\dataset4_dji_20231030152017_0040_640_01_07.jpg: ignoring corrupt image/label: non-normalized or out of bounds coordinates [     1.0016]\n",
      "\u001b[34m\u001b[1mtrain: \u001b[0mC:\\Users\\Navneet Sharma\\Documents\\GitHub\\Road-Anomaly-Detection\\dataset\\train\\images\\dataset4_dji_20231030152115_0086_640_04_06.jpg: ignoring corrupt image/label: non-normalized or out of bounds coordinates [     1.0063]\n"
     ]
    },
    {
     "name": "stderr",
     "output_type": "stream",
     "text": [
      "\n"
     ]
    },
    {
     "name": "stdout",
     "output_type": "stream",
     "text": [
      "WARNING Box and segment counts should be equal, but got len(segments) = 3, len(boxes) = 62583. To resolve this only boxes will be used and all segments will be removed. To avoid this please supply either a detect or segment dataset, not a detect-segment mixed dataset.\n",
      "\u001b[34m\u001b[1mval: \u001b[0mFast image access  (ping: 0.30.1 ms, read: 109.825.9 MB/s, size: 144.0 KB)\n"
     ]
    },
    {
     "name": "stderr",
     "output_type": "stream",
     "text": [
      "\u001b[34m\u001b[1mval: \u001b[0mScanning C:\\Users\\Navneet Sharma\\Documents\\GitHub\\Road-Anomaly-Detection\\dataset\\valid\\labels.cache... 4518 images, 0 backgrounds, 2 corrupt: 100%|██████████| 4518/4518 [00:00<?, ?it/s]"
     ]
    },
    {
     "name": "stdout",
     "output_type": "stream",
     "text": [
      "\u001b[34m\u001b[1mval: \u001b[0mC:\\Users\\Navneet Sharma\\Documents\\GitHub\\Road-Anomaly-Detection\\dataset\\valid\\images\\dataset4_DJI_20230707094615_0034_640_06_06.jpg: ignoring corrupt image/label: non-normalized or out of bounds coordinates [     1.0063]\n",
      "\u001b[34m\u001b[1mval: \u001b[0mC:\\Users\\Navneet Sharma\\Documents\\GitHub\\Road-Anomaly-Detection\\dataset\\valid\\images\\dataset4_DJI_20230707095006_0253_640_00_06.jpg: ignoring corrupt image/label: non-normalized or out of bounds coordinates [     1.0047]\n"
     ]
    },
    {
     "name": "stderr",
     "output_type": "stream",
     "text": [
      "\n"
     ]
    },
    {
     "name": "stdout",
     "output_type": "stream",
     "text": [
      "Plotting labels to RoadDetectionModel\\RoadModel_yolov8m.pt_rounds120_b9\\labels.jpg... \n",
      "\u001b[34m\u001b[1moptimizer:\u001b[0m 'optimizer=auto' found, ignoring 'lr0=0.01' and 'momentum=0.937' and determining best 'optimizer', 'lr0' and 'momentum' automatically... \n",
      "\u001b[34m\u001b[1moptimizer:\u001b[0m SGD(lr=0.01, momentum=0.9) with parameter groups 77 weight(decay=0.0), 84 weight(decay=0.0004921875), 83 bias(decay=0.0)\n",
      "\u001b[34m\u001b[1mTensorBoard: \u001b[0mmodel graph visualization added \n",
      "Image sizes 640 train, 640 val\n",
      "Using 8 dataloader workers\n",
      "Logging results to \u001b[1mRoadDetectionModel\\RoadModel_yolov8m.pt_rounds120_b9\u001b[0m\n",
      "Starting training for 120 epochs...\n",
      "\n",
      "      Epoch    GPU_mem   box_loss   cls_loss   dfl_loss  Instances       Size\n"
     ]
    },
    {
     "name": "stderr",
     "output_type": "stream",
     "text": [
      "      1/120      3.77G      1.782      2.124      1.526         35        640: 100%|██████████| 2590/2590 [14:32<00:00,  2.97it/s]\n",
      "                 Class     Images  Instances      Box(P          R      mAP50  mAP50-95): 100%|██████████| 251/251 [01:19<00:00,  3.17it/s]\n"
     ]
    },
    {
     "name": "stdout",
     "output_type": "stream",
     "text": [
      "                   all       4516      10839      0.525      0.528        0.5      0.246\n",
      "\n",
      "      Epoch    GPU_mem   box_loss   cls_loss   dfl_loss  Instances       Size\n"
     ]
    },
    {
     "name": "stderr",
     "output_type": "stream",
     "text": [
      "      2/120      3.81G      1.704      1.728       1.47         24        640: 100%|██████████| 2590/2590 [13:21<00:00,  3.23it/s]\n",
      "                 Class     Images  Instances      Box(P          R      mAP50  mAP50-95): 100%|██████████| 251/251 [01:14<00:00,  3.37it/s]\n"
     ]
    },
    {
     "name": "stdout",
     "output_type": "stream",
     "text": [
      "                   all       4516      10839      0.521      0.529      0.507      0.255\n",
      "\n",
      "      Epoch    GPU_mem   box_loss   cls_loss   dfl_loss  Instances       Size\n"
     ]
    },
    {
     "name": "stderr",
     "output_type": "stream",
     "text": [
      "      3/120      3.79G      1.783      1.845      1.542         52        640: 100%|██████████| 2590/2590 [12:59<00:00,  3.32it/s]\n",
      "                 Class     Images  Instances      Box(P          R      mAP50  mAP50-95): 100%|██████████| 251/251 [01:14<00:00,  3.38it/s]\n"
     ]
    },
    {
     "name": "stdout",
     "output_type": "stream",
     "text": [
      "                   all       4516      10839      0.449      0.473      0.448      0.229\n",
      "\n",
      "      Epoch    GPU_mem   box_loss   cls_loss   dfl_loss  Instances       Size\n"
     ]
    },
    {
     "name": "stderr",
     "output_type": "stream",
     "text": [
      "      4/120       3.8G      1.812      1.908      1.596         41        640: 100%|██████████| 2590/2590 [13:01<00:00,  3.31it/s]\n",
      "                 Class     Images  Instances      Box(P          R      mAP50  mAP50-95): 100%|██████████| 251/251 [01:35<00:00,  2.63it/s]\n"
     ]
    },
    {
     "name": "stdout",
     "output_type": "stream",
     "text": [
      "                   all       4516      10839      0.542      0.486      0.492       0.25\n",
      "\n",
      "      Epoch    GPU_mem   box_loss   cls_loss   dfl_loss  Instances       Size\n"
     ]
    },
    {
     "name": "stderr",
     "output_type": "stream",
     "text": [
      "      5/120       3.8G      1.747      1.796      1.556         52        640: 100%|██████████| 2590/2590 [14:03<00:00,  3.07it/s]\n",
      "                 Class     Images  Instances      Box(P          R      mAP50  mAP50-95): 100%|██████████| 251/251 [01:17<00:00,  3.23it/s]\n"
     ]
    },
    {
     "name": "stdout",
     "output_type": "stream",
     "text": [
      "                   all       4516      10839      0.558      0.538      0.534      0.281\n",
      "\n",
      "      Epoch    GPU_mem   box_loss   cls_loss   dfl_loss  Instances       Size\n"
     ]
    },
    {
     "name": "stderr",
     "output_type": "stream",
     "text": [
      "      6/120      3.79G      1.713       1.72      1.539         58        640: 100%|██████████| 2590/2590 [13:38<00:00,  3.16it/s]\n",
      "                 Class     Images  Instances      Box(P          R      mAP50  mAP50-95): 100%|██████████| 251/251 [01:16<00:00,  3.26it/s]\n"
     ]
    },
    {
     "name": "stdout",
     "output_type": "stream",
     "text": [
      "                   all       4516      10839      0.568       0.58      0.579        0.3\n",
      "\n",
      "      Epoch    GPU_mem   box_loss   cls_loss   dfl_loss  Instances       Size\n"
     ]
    },
    {
     "name": "stderr",
     "output_type": "stream",
     "text": [
      "      7/120      3.78G      1.674      1.649      1.518         32        640: 100%|██████████| 2590/2590 [12:54<00:00,  3.34it/s]\n",
      "                 Class     Images  Instances      Box(P          R      mAP50  mAP50-95): 100%|██████████| 251/251 [01:14<00:00,  3.37it/s]\n"
     ]
    },
    {
     "name": "stdout",
     "output_type": "stream",
     "text": [
      "                   all       4516      10839      0.601      0.594      0.592      0.316\n",
      "\n",
      "      Epoch    GPU_mem   box_loss   cls_loss   dfl_loss  Instances       Size\n"
     ]
    },
    {
     "name": "stderr",
     "output_type": "stream",
     "text": [
      "      8/120      3.76G      1.647      1.602      1.502         25        640: 100%|██████████| 2590/2590 [12:52<00:00,  3.35it/s]\n",
      "                 Class     Images  Instances      Box(P          R      mAP50  mAP50-95): 100%|██████████| 251/251 [01:14<00:00,  3.37it/s]\n"
     ]
    },
    {
     "name": "stdout",
     "output_type": "stream",
     "text": [
      "                   all       4516      10839      0.605        0.6      0.605      0.328\n",
      "\n",
      "      Epoch    GPU_mem   box_loss   cls_loss   dfl_loss  Instances       Size\n"
     ]
    },
    {
     "name": "stderr",
     "output_type": "stream",
     "text": [
      "      9/120      3.77G      1.618      1.558      1.481         32        640: 100%|██████████| 2590/2590 [12:52<00:00,  3.35it/s]\n",
      "                 Class     Images  Instances      Box(P          R      mAP50  mAP50-95): 100%|██████████| 251/251 [01:14<00:00,  3.35it/s]\n"
     ]
    },
    {
     "name": "stdout",
     "output_type": "stream",
     "text": [
      "                   all       4516      10839      0.615      0.611      0.615      0.336\n",
      "\n",
      "      Epoch    GPU_mem   box_loss   cls_loss   dfl_loss  Instances       Size\n"
     ]
    },
    {
     "name": "stderr",
     "output_type": "stream",
     "text": [
      "     10/120      3.77G      1.599      1.524      1.467         22        640: 100%|██████████| 2590/2590 [12:57<00:00,  3.33it/s]\n",
      "                 Class     Images  Instances      Box(P          R      mAP50  mAP50-95): 100%|██████████| 251/251 [01:16<00:00,  3.27it/s]\n"
     ]
    },
    {
     "name": "stdout",
     "output_type": "stream",
     "text": [
      "                   all       4516      10839      0.641       0.62       0.63      0.346\n",
      "\n",
      "      Epoch    GPU_mem   box_loss   cls_loss   dfl_loss  Instances       Size\n"
     ]
    },
    {
     "name": "stderr",
     "output_type": "stream",
     "text": [
      "     11/120      3.79G      1.581      1.491      1.455         49        640: 100%|██████████| 2590/2590 [12:38<00:00,  3.41it/s]\n",
      "                 Class     Images  Instances      Box(P          R      mAP50  mAP50-95): 100%|██████████| 251/251 [01:07<00:00,  3.73it/s]\n"
     ]
    },
    {
     "name": "stdout",
     "output_type": "stream",
     "text": [
      "                   all       4516      10839      0.656       0.62      0.638      0.353\n",
      "\n",
      "      Epoch    GPU_mem   box_loss   cls_loss   dfl_loss  Instances       Size\n"
     ]
    },
    {
     "name": "stderr",
     "output_type": "stream",
     "text": [
      "     12/120      3.79G      1.565      1.465      1.443         42        640: 100%|██████████| 2590/2590 [12:26<00:00,  3.47it/s]\n",
      "                 Class     Images  Instances      Box(P          R      mAP50  mAP50-95): 100%|██████████| 251/251 [01:09<00:00,  3.62it/s]\n"
     ]
    },
    {
     "name": "stdout",
     "output_type": "stream",
     "text": [
      "                   all       4516      10839      0.649      0.638      0.651      0.361\n",
      "\n",
      "      Epoch    GPU_mem   box_loss   cls_loss   dfl_loss  Instances       Size\n"
     ]
    },
    {
     "name": "stderr",
     "output_type": "stream",
     "text": [
      "     13/120      3.77G      1.549      1.437      1.427         30        640: 100%|██████████| 2590/2590 [12:36<00:00,  3.42it/s]\n",
      "                 Class     Images  Instances      Box(P          R      mAP50  mAP50-95): 100%|██████████| 251/251 [01:09<00:00,  3.59it/s]\n"
     ]
    },
    {
     "name": "stdout",
     "output_type": "stream",
     "text": [
      "                   all       4516      10839      0.658      0.647      0.659      0.366\n",
      "\n",
      "      Epoch    GPU_mem   box_loss   cls_loss   dfl_loss  Instances       Size\n"
     ]
    },
    {
     "name": "stderr",
     "output_type": "stream",
     "text": [
      "     14/120      3.78G      1.541      1.413      1.422         28        640: 100%|██████████| 2590/2590 [12:39<00:00,  3.41it/s]\n",
      "                 Class     Images  Instances      Box(P          R      mAP50  mAP50-95): 100%|██████████| 251/251 [01:09<00:00,  3.60it/s]\n"
     ]
    },
    {
     "name": "stdout",
     "output_type": "stream",
     "text": [
      "                   all       4516      10839      0.671      0.648      0.667      0.377\n",
      "\n",
      "      Epoch    GPU_mem   box_loss   cls_loss   dfl_loss  Instances       Size\n"
     ]
    },
    {
     "name": "stderr",
     "output_type": "stream",
     "text": [
      "     15/120      3.76G      1.526      1.401      1.416         27        640: 100%|██████████| 2590/2590 [12:38<00:00,  3.42it/s]\n",
      "                 Class     Images  Instances      Box(P          R      mAP50  mAP50-95): 100%|██████████| 251/251 [01:09<00:00,  3.59it/s]\n"
     ]
    },
    {
     "name": "stdout",
     "output_type": "stream",
     "text": [
      "                   all       4516      10839      0.662      0.662      0.678      0.379\n",
      "\n",
      "      Epoch    GPU_mem   box_loss   cls_loss   dfl_loss  Instances       Size\n"
     ]
    },
    {
     "name": "stderr",
     "output_type": "stream",
     "text": [
      "     16/120      3.77G       1.51      1.365      1.407         49        640: 100%|██████████| 2590/2590 [12:34<00:00,  3.43it/s]\n",
      "                 Class     Images  Instances      Box(P          R      mAP50  mAP50-95): 100%|██████████| 251/251 [01:09<00:00,  3.61it/s]\n"
     ]
    },
    {
     "name": "stdout",
     "output_type": "stream",
     "text": [
      "                   all       4516      10839      0.679      0.665      0.681      0.386\n",
      "\n",
      "      Epoch    GPU_mem   box_loss   cls_loss   dfl_loss  Instances       Size\n"
     ]
    },
    {
     "name": "stderr",
     "output_type": "stream",
     "text": [
      "     17/120      3.76G        1.5       1.35      1.399         31        640: 100%|██████████| 2590/2590 [12:35<00:00,  3.43it/s]\n",
      "                 Class     Images  Instances      Box(P          R      mAP50  mAP50-95): 100%|██████████| 251/251 [01:11<00:00,  3.54it/s]\n"
     ]
    },
    {
     "name": "stdout",
     "output_type": "stream",
     "text": [
      "                   all       4516      10839      0.693      0.662      0.688      0.394\n",
      "\n",
      "      Epoch    GPU_mem   box_loss   cls_loss   dfl_loss  Instances       Size\n"
     ]
    },
    {
     "name": "stderr",
     "output_type": "stream",
     "text": [
      "     18/120      3.76G      1.489      1.339      1.395         22        640: 100%|██████████| 2590/2590 [12:35<00:00,  3.43it/s]\n",
      "                 Class     Images  Instances      Box(P          R      mAP50  mAP50-95): 100%|██████████| 251/251 [01:09<00:00,  3.63it/s]\n"
     ]
    },
    {
     "name": "stdout",
     "output_type": "stream",
     "text": [
      "                   all       4516      10839      0.689      0.671       0.69      0.397\n",
      "\n",
      "      Epoch    GPU_mem   box_loss   cls_loss   dfl_loss  Instances       Size\n"
     ]
    },
    {
     "name": "stderr",
     "output_type": "stream",
     "text": [
      "     19/120      3.76G      1.473      1.315      1.378         39        640: 100%|██████████| 2590/2590 [12:34<00:00,  3.43it/s]\n",
      "                 Class     Images  Instances      Box(P          R      mAP50  mAP50-95): 100%|██████████| 251/251 [01:11<00:00,  3.53it/s]\n"
     ]
    },
    {
     "name": "stdout",
     "output_type": "stream",
     "text": [
      "                   all       4516      10839      0.687      0.681       0.69      0.397\n",
      "\n",
      "      Epoch    GPU_mem   box_loss   cls_loss   dfl_loss  Instances       Size\n"
     ]
    },
    {
     "name": "stderr",
     "output_type": "stream",
     "text": [
      "     20/120      3.81G      1.471      1.304      1.373         27        640: 100%|██████████| 2590/2590 [12:36<00:00,  3.42it/s]\n",
      "                 Class     Images  Instances      Box(P          R      mAP50  mAP50-95): 100%|██████████| 251/251 [01:10<00:00,  3.55it/s]\n"
     ]
    },
    {
     "name": "stdout",
     "output_type": "stream",
     "text": [
      "                   all       4516      10839      0.698      0.674      0.698      0.401\n",
      "\n",
      "      Epoch    GPU_mem   box_loss   cls_loss   dfl_loss  Instances       Size\n"
     ]
    },
    {
     "name": "stderr",
     "output_type": "stream",
     "text": [
      "     21/120      3.77G      1.463      1.291      1.373         20        640: 100%|██████████| 2590/2590 [12:38<00:00,  3.42it/s]\n",
      "                 Class     Images  Instances      Box(P          R      mAP50  mAP50-95): 100%|██████████| 251/251 [01:10<00:00,  3.58it/s]\n"
     ]
    },
    {
     "name": "stdout",
     "output_type": "stream",
     "text": [
      "                   all       4516      10839      0.691      0.681        0.7      0.404\n",
      "\n",
      "      Epoch    GPU_mem   box_loss   cls_loss   dfl_loss  Instances       Size\n"
     ]
    },
    {
     "name": "stderr",
     "output_type": "stream",
     "text": [
      "     22/120      3.77G      1.454      1.286      1.367         44        640: 100%|██████████| 2590/2590 [12:36<00:00,  3.42it/s]\n",
      "                 Class     Images  Instances      Box(P          R      mAP50  mAP50-95): 100%|██████████| 251/251 [01:09<00:00,  3.63it/s]\n"
     ]
    },
    {
     "name": "stdout",
     "output_type": "stream",
     "text": [
      "                   all       4516      10839      0.693      0.684      0.704      0.406\n",
      "\n",
      "      Epoch    GPU_mem   box_loss   cls_loss   dfl_loss  Instances       Size\n"
     ]
    },
    {
     "name": "stderr",
     "output_type": "stream",
     "text": [
      "     23/120      3.78G      1.443      1.268      1.357         22        640: 100%|██████████| 2590/2590 [12:36<00:00,  3.42it/s]\n",
      "                 Class     Images  Instances      Box(P          R      mAP50  mAP50-95): 100%|██████████| 251/251 [01:09<00:00,  3.60it/s]\n"
     ]
    },
    {
     "name": "stdout",
     "output_type": "stream",
     "text": [
      "                   all       4516      10839      0.696      0.688      0.707       0.41\n",
      "\n",
      "      Epoch    GPU_mem   box_loss   cls_loss   dfl_loss  Instances       Size\n"
     ]
    },
    {
     "name": "stderr",
     "output_type": "stream",
     "text": [
      "     24/120      3.77G      1.434      1.259      1.353         35        640: 100%|██████████| 2590/2590 [12:33<00:00,  3.44it/s]\n",
      "                 Class     Images  Instances      Box(P          R      mAP50  mAP50-95): 100%|██████████| 251/251 [01:08<00:00,  3.66it/s]\n"
     ]
    },
    {
     "name": "stdout",
     "output_type": "stream",
     "text": [
      "                   all       4516      10839      0.689      0.696      0.707      0.412\n",
      "\n",
      "      Epoch    GPU_mem   box_loss   cls_loss   dfl_loss  Instances       Size\n"
     ]
    },
    {
     "name": "stderr",
     "output_type": "stream",
     "text": [
      "     25/120      3.77G      1.427      1.253      1.352         40        640: 100%|██████████| 2590/2590 [12:35<00:00,  3.43it/s]\n",
      "                 Class     Images  Instances      Box(P          R      mAP50  mAP50-95): 100%|██████████| 251/251 [01:11<00:00,  3.53it/s]\n"
     ]
    },
    {
     "name": "stdout",
     "output_type": "stream",
     "text": [
      "                   all       4516      10839      0.705       0.69       0.71      0.411\n",
      "\n",
      "      Epoch    GPU_mem   box_loss   cls_loss   dfl_loss  Instances       Size\n"
     ]
    },
    {
     "name": "stderr",
     "output_type": "stream",
     "text": [
      "     26/120      3.77G      1.419      1.232      1.339         26        640: 100%|██████████| 2590/2590 [12:34<00:00,  3.43it/s]\n",
      "                 Class     Images  Instances      Box(P          R      mAP50  mAP50-95): 100%|██████████| 251/251 [01:10<00:00,  3.55it/s]\n"
     ]
    },
    {
     "name": "stdout",
     "output_type": "stream",
     "text": [
      "                   all       4516      10839      0.702      0.696      0.713      0.415\n",
      "\n",
      "      Epoch    GPU_mem   box_loss   cls_loss   dfl_loss  Instances       Size\n"
     ]
    },
    {
     "name": "stderr",
     "output_type": "stream",
     "text": [
      "     27/120      3.77G      1.413      1.238      1.338         50        640: 100%|██████████| 2590/2590 [12:34<00:00,  3.43it/s]\n",
      "                 Class     Images  Instances      Box(P          R      mAP50  mAP50-95): 100%|██████████| 251/251 [01:10<00:00,  3.58it/s]\n"
     ]
    },
    {
     "name": "stdout",
     "output_type": "stream",
     "text": [
      "                   all       4516      10839      0.717      0.693      0.712      0.418\n",
      "\n",
      "      Epoch    GPU_mem   box_loss   cls_loss   dfl_loss  Instances       Size\n"
     ]
    },
    {
     "name": "stderr",
     "output_type": "stream",
     "text": [
      "     28/120      3.77G      1.401      1.213      1.328         39        640: 100%|██████████| 2590/2590 [12:39<00:00,  3.41it/s]\n",
      "                 Class     Images  Instances      Box(P          R      mAP50  mAP50-95): 100%|██████████| 251/251 [01:11<00:00,  3.53it/s]\n"
     ]
    },
    {
     "name": "stdout",
     "output_type": "stream",
     "text": [
      "                   all       4516      10839      0.705      0.698      0.713      0.419\n",
      "\n",
      "      Epoch    GPU_mem   box_loss   cls_loss   dfl_loss  Instances       Size\n"
     ]
    },
    {
     "name": "stderr",
     "output_type": "stream",
     "text": [
      "     29/120      3.76G      1.406      1.219      1.333         29        640: 100%|██████████| 2590/2590 [12:38<00:00,  3.41it/s]\n",
      "                 Class     Images  Instances      Box(P          R      mAP50  mAP50-95): 100%|██████████| 251/251 [01:10<00:00,  3.55it/s]\n"
     ]
    },
    {
     "name": "stdout",
     "output_type": "stream",
     "text": [
      "                   all       4516      10839      0.699      0.705      0.715       0.42\n",
      "\n",
      "      Epoch    GPU_mem   box_loss   cls_loss   dfl_loss  Instances       Size\n"
     ]
    },
    {
     "name": "stderr",
     "output_type": "stream",
     "text": [
      "     30/120      3.77G      1.392      1.194       1.32         25        640: 100%|██████████| 2590/2590 [12:36<00:00,  3.42it/s]\n",
      "                 Class     Images  Instances      Box(P          R      mAP50  mAP50-95): 100%|██████████| 251/251 [01:09<00:00,  3.63it/s]\n"
     ]
    },
    {
     "name": "stdout",
     "output_type": "stream",
     "text": [
      "                   all       4516      10839      0.706      0.705      0.717      0.424\n",
      "\n",
      "      Epoch    GPU_mem   box_loss   cls_loss   dfl_loss  Instances       Size\n"
     ]
    },
    {
     "name": "stderr",
     "output_type": "stream",
     "text": [
      "     31/120      3.76G      1.387      1.199      1.322         28        640: 100%|██████████| 2590/2590 [12:38<00:00,  3.41it/s]\n",
      "                 Class     Images  Instances      Box(P          R      mAP50  mAP50-95): 100%|██████████| 251/251 [01:09<00:00,  3.60it/s]\n"
     ]
    },
    {
     "name": "stdout",
     "output_type": "stream",
     "text": [
      "                   all       4516      10839      0.714      0.702      0.717      0.423\n",
      "\n",
      "      Epoch    GPU_mem   box_loss   cls_loss   dfl_loss  Instances       Size\n"
     ]
    },
    {
     "name": "stderr",
     "output_type": "stream",
     "text": [
      "     32/120      3.76G      1.379      1.184       1.32         33        640: 100%|██████████| 2590/2590 [12:37<00:00,  3.42it/s]\n",
      "                 Class     Images  Instances      Box(P          R      mAP50  mAP50-95): 100%|██████████| 251/251 [01:10<00:00,  3.54it/s]\n"
     ]
    },
    {
     "name": "stdout",
     "output_type": "stream",
     "text": [
      "                   all       4516      10839      0.703      0.707      0.717      0.422\n",
      "\n",
      "      Epoch    GPU_mem   box_loss   cls_loss   dfl_loss  Instances       Size\n"
     ]
    },
    {
     "name": "stderr",
     "output_type": "stream",
     "text": [
      "     33/120      3.75G      1.372      1.171      1.312         24        640: 100%|██████████| 2590/2590 [12:34<00:00,  3.43it/s]\n",
      "                 Class     Images  Instances      Box(P          R      mAP50  mAP50-95): 100%|██████████| 251/251 [01:10<00:00,  3.58it/s]\n"
     ]
    },
    {
     "name": "stdout",
     "output_type": "stream",
     "text": [
      "                   all       4516      10839      0.708      0.703      0.718      0.423\n",
      "\n",
      "      Epoch    GPU_mem   box_loss   cls_loss   dfl_loss  Instances       Size\n"
     ]
    },
    {
     "name": "stderr",
     "output_type": "stream",
     "text": [
      "     34/120      3.77G      1.363       1.16      1.307         40        640: 100%|██████████| 2590/2590 [12:41<00:00,  3.40it/s]\n",
      "                 Class     Images  Instances      Box(P          R      mAP50  mAP50-95): 100%|██████████| 251/251 [01:03<00:00,  3.98it/s]\n"
     ]
    },
    {
     "name": "stdout",
     "output_type": "stream",
     "text": [
      "                   all       4516      10839      0.717        0.7      0.719      0.425\n",
      "\n",
      "      Epoch    GPU_mem   box_loss   cls_loss   dfl_loss  Instances       Size\n"
     ]
    },
    {
     "name": "stderr",
     "output_type": "stream",
     "text": [
      "     35/120      3.77G      1.366      1.163       1.31         40        640: 100%|██████████| 2590/2590 [12:36<00:00,  3.43it/s]\n",
      "                 Class     Images  Instances      Box(P          R      mAP50  mAP50-95): 100%|██████████| 251/251 [01:10<00:00,  3.55it/s]\n"
     ]
    },
    {
     "name": "stdout",
     "output_type": "stream",
     "text": [
      "                   all       4516      10839      0.715        0.7       0.72      0.425\n",
      "\n",
      "      Epoch    GPU_mem   box_loss   cls_loss   dfl_loss  Instances       Size\n"
     ]
    },
    {
     "name": "stderr",
     "output_type": "stream",
     "text": [
      "     36/120      3.78G      1.351      1.146      1.296         41        640: 100%|██████████| 2590/2590 [12:38<00:00,  3.42it/s]\n",
      "                 Class     Images  Instances      Box(P          R      mAP50  mAP50-95): 100%|██████████| 251/251 [01:09<00:00,  3.63it/s]\n"
     ]
    },
    {
     "name": "stdout",
     "output_type": "stream",
     "text": [
      "                   all       4516      10839      0.707      0.706       0.72      0.426\n",
      "\n",
      "      Epoch    GPU_mem   box_loss   cls_loss   dfl_loss  Instances       Size\n"
     ]
    },
    {
     "name": "stderr",
     "output_type": "stream",
     "text": [
      "     37/120      3.76G      1.355      1.148      1.299         22        640: 100%|██████████| 2590/2590 [12:41<00:00,  3.40it/s]\n",
      "                 Class     Images  Instances      Box(P          R      mAP50  mAP50-95): 100%|██████████| 251/251 [01:14<00:00,  3.37it/s]\n"
     ]
    },
    {
     "name": "stdout",
     "output_type": "stream",
     "text": [
      "                   all       4516      10839      0.707      0.707       0.72      0.427\n",
      "\n",
      "      Epoch    GPU_mem   box_loss   cls_loss   dfl_loss  Instances       Size\n"
     ]
    },
    {
     "name": "stderr",
     "output_type": "stream",
     "text": [
      "     38/120      3.78G      1.341      1.135      1.293         56        640: 100%|██████████| 2590/2590 [12:41<00:00,  3.40it/s]\n",
      "                 Class     Images  Instances      Box(P          R      mAP50  mAP50-95): 100%|██████████| 251/251 [01:10<00:00,  3.58it/s]\n"
     ]
    },
    {
     "name": "stdout",
     "output_type": "stream",
     "text": [
      "                   all       4516      10839      0.706      0.708       0.72      0.427\n",
      "\n",
      "      Epoch    GPU_mem   box_loss   cls_loss   dfl_loss  Instances       Size\n"
     ]
    },
    {
     "name": "stderr",
     "output_type": "stream",
     "text": [
      "     39/120      3.78G      1.337      1.134      1.287         22        640: 100%|██████████| 2590/2590 [12:42<00:00,  3.40it/s]\n",
      "                 Class     Images  Instances      Box(P          R      mAP50  mAP50-95): 100%|██████████| 251/251 [01:09<00:00,  3.62it/s]\n"
     ]
    },
    {
     "name": "stdout",
     "output_type": "stream",
     "text": [
      "                   all       4516      10839      0.713      0.703      0.719      0.427\n",
      "\n",
      "      Epoch    GPU_mem   box_loss   cls_loss   dfl_loss  Instances       Size\n"
     ]
    },
    {
     "name": "stderr",
     "output_type": "stream",
     "text": [
      "     40/120      3.77G       1.33      1.123      1.283         23        640: 100%|██████████| 2590/2590 [12:39<00:00,  3.41it/s]\n",
      "                 Class     Images  Instances      Box(P          R      mAP50  mAP50-95): 100%|██████████| 251/251 [01:09<00:00,  3.62it/s]\n"
     ]
    },
    {
     "name": "stdout",
     "output_type": "stream",
     "text": [
      "                   all       4516      10839      0.708      0.706      0.719      0.427\n",
      "\n",
      "      Epoch    GPU_mem   box_loss   cls_loss   dfl_loss  Instances       Size\n"
     ]
    },
    {
     "name": "stderr",
     "output_type": "stream",
     "text": [
      "     41/120      3.78G      1.333       1.12      1.283         36        640: 100%|██████████| 2590/2590 [12:39<00:00,  3.41it/s]\n",
      "                 Class     Images  Instances      Box(P          R      mAP50  mAP50-95): 100%|██████████| 251/251 [01:10<00:00,  3.56it/s]\n"
     ]
    },
    {
     "name": "stdout",
     "output_type": "stream",
     "text": [
      "                   all       4516      10839      0.718      0.702      0.721      0.428\n",
      "\n",
      "      Epoch    GPU_mem   box_loss   cls_loss   dfl_loss  Instances       Size\n"
     ]
    },
    {
     "name": "stderr",
     "output_type": "stream",
     "text": [
      "     42/120      3.77G      1.326       1.12      1.284         14        640: 100%|██████████| 2590/2590 [12:40<00:00,  3.40it/s]\n",
      "                 Class     Images  Instances      Box(P          R      mAP50  mAP50-95): 100%|██████████| 251/251 [01:10<00:00,  3.55it/s]\n"
     ]
    },
    {
     "name": "stdout",
     "output_type": "stream",
     "text": [
      "                   all       4516      10839      0.715      0.705      0.721      0.428\n",
      "\n",
      "      Epoch    GPU_mem   box_loss   cls_loss   dfl_loss  Instances       Size\n"
     ]
    },
    {
     "name": "stderr",
     "output_type": "stream",
     "text": [
      "     43/120      3.78G      1.317      1.112      1.278         34        640: 100%|██████████| 2590/2590 [12:43<00:00,  3.39it/s]\n",
      "                 Class     Images  Instances      Box(P          R      mAP50  mAP50-95): 100%|██████████| 251/251 [01:10<00:00,  3.56it/s]\n"
     ]
    },
    {
     "name": "stdout",
     "output_type": "stream",
     "text": [
      "                   all       4516      10839      0.706      0.711      0.721      0.429\n",
      "\n",
      "      Epoch    GPU_mem   box_loss   cls_loss   dfl_loss  Instances       Size\n"
     ]
    },
    {
     "name": "stderr",
     "output_type": "stream",
     "text": [
      "     44/120      3.77G      1.311      1.097      1.271         37        640: 100%|██████████| 2590/2590 [12:39<00:00,  3.41it/s]\n",
      "                 Class     Images  Instances      Box(P          R      mAP50  mAP50-95): 100%|██████████| 251/251 [01:09<00:00,  3.62it/s]\n"
     ]
    },
    {
     "name": "stdout",
     "output_type": "stream",
     "text": [
      "                   all       4516      10839      0.711      0.711      0.722       0.43\n",
      "\n",
      "      Epoch    GPU_mem   box_loss   cls_loss   dfl_loss  Instances       Size\n"
     ]
    },
    {
     "name": "stderr",
     "output_type": "stream",
     "text": [
      "     45/120      3.75G      1.312      1.101      1.274         31        640: 100%|██████████| 2590/2590 [12:43<00:00,  3.39it/s]\n",
      "                 Class     Images  Instances      Box(P          R      mAP50  mAP50-95): 100%|██████████| 251/251 [01:10<00:00,  3.59it/s]\n"
     ]
    },
    {
     "name": "stdout",
     "output_type": "stream",
     "text": [
      "                   all       4516      10839      0.715       0.71      0.723       0.43\n",
      "\n",
      "      Epoch    GPU_mem   box_loss   cls_loss   dfl_loss  Instances       Size\n"
     ]
    },
    {
     "name": "stderr",
     "output_type": "stream",
     "text": [
      "     46/120      3.75G      1.302      1.086      1.267         35        640: 100%|██████████| 2590/2590 [12:39<00:00,  3.41it/s]\n",
      "                 Class     Images  Instances      Box(P          R      mAP50  mAP50-95): 100%|██████████| 251/251 [01:10<00:00,  3.56it/s]\n"
     ]
    },
    {
     "name": "stdout",
     "output_type": "stream",
     "text": [
      "                   all       4516      10839      0.717       0.71      0.724      0.431\n",
      "\n",
      "      Epoch    GPU_mem   box_loss   cls_loss   dfl_loss  Instances       Size\n"
     ]
    },
    {
     "name": "stderr",
     "output_type": "stream",
     "text": [
      "     47/120      3.76G      1.297      1.072      1.264         29        640: 100%|██████████| 2590/2590 [12:42<00:00,  3.40it/s]\n",
      "                 Class     Images  Instances      Box(P          R      mAP50  mAP50-95): 100%|██████████| 251/251 [01:10<00:00,  3.57it/s]\n"
     ]
    },
    {
     "name": "stdout",
     "output_type": "stream",
     "text": [
      "                   all       4516      10839      0.719      0.709      0.723      0.431\n",
      "\n",
      "      Epoch    GPU_mem   box_loss   cls_loss   dfl_loss  Instances       Size\n"
     ]
    },
    {
     "name": "stderr",
     "output_type": "stream",
     "text": [
      "     48/120      3.77G      1.293      1.074      1.263         43        640: 100%|██████████| 2590/2590 [12:41<00:00,  3.40it/s]\n",
      "                 Class     Images  Instances      Box(P          R      mAP50  mAP50-95): 100%|██████████| 251/251 [01:10<00:00,  3.54it/s]\n"
     ]
    },
    {
     "name": "stdout",
     "output_type": "stream",
     "text": [
      "                   all       4516      10839      0.721      0.708      0.724      0.431\n",
      "\n",
      "      Epoch    GPU_mem   box_loss   cls_loss   dfl_loss  Instances       Size\n"
     ]
    },
    {
     "name": "stderr",
     "output_type": "stream",
     "text": [
      "     49/120      3.77G      1.288      1.071      1.265         40        640: 100%|██████████| 2590/2590 [12:47<00:00,  3.38it/s]\n",
      "                 Class     Images  Instances      Box(P          R      mAP50  mAP50-95): 100%|██████████| 251/251 [01:13<00:00,  3.44it/s]\n"
     ]
    },
    {
     "name": "stdout",
     "output_type": "stream",
     "text": [
      "                   all       4516      10839      0.723      0.707      0.723      0.432\n",
      "\n",
      "      Epoch    GPU_mem   box_loss   cls_loss   dfl_loss  Instances       Size\n"
     ]
    },
    {
     "name": "stderr",
     "output_type": "stream",
     "text": [
      "     50/120      3.76G      1.281      1.059      1.258         33        640: 100%|██████████| 2590/2590 [12:35<00:00,  3.43it/s]\n",
      "                 Class     Images  Instances      Box(P          R      mAP50  mAP50-95): 100%|██████████| 251/251 [01:06<00:00,  3.76it/s]\n"
     ]
    },
    {
     "name": "stdout",
     "output_type": "stream",
     "text": [
      "                   all       4516      10839      0.724      0.708      0.723      0.431\n",
      "\n",
      "      Epoch    GPU_mem   box_loss   cls_loss   dfl_loss  Instances       Size\n"
     ]
    },
    {
     "name": "stderr",
     "output_type": "stream",
     "text": [
      "     51/120      3.76G      1.276      1.059      1.257         48        640: 100%|██████████| 2590/2590 [12:21<00:00,  3.49it/s]\n",
      "                 Class     Images  Instances      Box(P          R      mAP50  mAP50-95): 100%|██████████| 251/251 [01:09<00:00,  3.62it/s]\n"
     ]
    },
    {
     "name": "stdout",
     "output_type": "stream",
     "text": [
      "                   all       4516      10839      0.725      0.709      0.724      0.431\n",
      "\n",
      "      Epoch    GPU_mem   box_loss   cls_loss   dfl_loss  Instances       Size\n"
     ]
    },
    {
     "name": "stderr",
     "output_type": "stream",
     "text": [
      "     52/120      3.78G      1.273      1.047       1.25         33        640: 100%|██████████| 2590/2590 [12:36<00:00,  3.42it/s]\n",
      "                 Class     Images  Instances      Box(P          R      mAP50  mAP50-95): 100%|██████████| 251/251 [01:10<00:00,  3.55it/s]\n"
     ]
    },
    {
     "name": "stdout",
     "output_type": "stream",
     "text": [
      "                   all       4516      10839      0.725      0.709      0.725      0.431\n",
      "\n",
      "      Epoch    GPU_mem   box_loss   cls_loss   dfl_loss  Instances       Size\n"
     ]
    },
    {
     "name": "stderr",
     "output_type": "stream",
     "text": [
      "     53/120      3.77G      1.266      1.044      1.248         42        640: 100%|██████████| 2590/2590 [12:39<00:00,  3.41it/s]\n",
      "                 Class     Images  Instances      Box(P          R      mAP50  mAP50-95): 100%|██████████| 251/251 [01:09<00:00,  3.63it/s]\n"
     ]
    },
    {
     "name": "stdout",
     "output_type": "stream",
     "text": [
      "                   all       4516      10839      0.723       0.71      0.725      0.431\n",
      "\n",
      "      Epoch    GPU_mem   box_loss   cls_loss   dfl_loss  Instances       Size\n"
     ]
    },
    {
     "name": "stderr",
     "output_type": "stream",
     "text": [
      "     54/120      3.77G      1.267      1.042      1.243         46        640: 100%|██████████| 2590/2590 [12:38<00:00,  3.41it/s]\n",
      "                 Class     Images  Instances      Box(P          R      mAP50  mAP50-95): 100%|██████████| 251/251 [01:10<00:00,  3.55it/s]\n"
     ]
    },
    {
     "name": "stdout",
     "output_type": "stream",
     "text": [
      "                   all       4516      10839      0.723       0.71      0.726      0.431\n",
      "\n",
      "      Epoch    GPU_mem   box_loss   cls_loss   dfl_loss  Instances       Size\n"
     ]
    },
    {
     "name": "stderr",
     "output_type": "stream",
     "text": [
      "     55/120      3.75G       1.26      1.034      1.241         23        640: 100%|██████████| 2590/2590 [12:40<00:00,  3.40it/s]\n",
      "                 Class     Images  Instances      Box(P          R      mAP50  mAP50-95): 100%|██████████| 251/251 [01:12<00:00,  3.47it/s]\n"
     ]
    },
    {
     "name": "stdout",
     "output_type": "stream",
     "text": [
      "                   all       4516      10839      0.727      0.709      0.727      0.431\n",
      "\n",
      "      Epoch    GPU_mem   box_loss   cls_loss   dfl_loss  Instances       Size\n"
     ]
    },
    {
     "name": "stderr",
     "output_type": "stream",
     "text": [
      "     56/120      3.76G      1.253      1.026      1.238         34        640: 100%|██████████| 2590/2590 [12:37<00:00,  3.42it/s]\n",
      "                 Class     Images  Instances      Box(P          R      mAP50  mAP50-95): 100%|██████████| 251/251 [01:09<00:00,  3.62it/s]\n"
     ]
    },
    {
     "name": "stdout",
     "output_type": "stream",
     "text": [
      "                   all       4516      10839      0.724      0.711      0.727      0.432\n",
      "\n",
      "      Epoch    GPU_mem   box_loss   cls_loss   dfl_loss  Instances       Size\n"
     ]
    },
    {
     "name": "stderr",
     "output_type": "stream",
     "text": [
      "     57/120      3.76G       1.25      1.025      1.237         20        640: 100%|██████████| 2590/2590 [12:20<00:00,  3.50it/s]\n",
      "                 Class     Images  Instances      Box(P          R      mAP50  mAP50-95): 100%|██████████| 251/251 [01:05<00:00,  3.80it/s]\n"
     ]
    },
    {
     "name": "stdout",
     "output_type": "stream",
     "text": [
      "                   all       4516      10839      0.724      0.711      0.727      0.432\n",
      "\n",
      "      Epoch    GPU_mem   box_loss   cls_loss   dfl_loss  Instances       Size\n"
     ]
    },
    {
     "name": "stderr",
     "output_type": "stream",
     "text": [
      "     58/120      3.75G       1.25      1.018      1.236         41        640: 100%|██████████| 2590/2590 [12:18<00:00,  3.51it/s]\n",
      "                 Class     Images  Instances      Box(P          R      mAP50  mAP50-95): 100%|██████████| 251/251 [01:03<00:00,  3.96it/s]\n"
     ]
    },
    {
     "name": "stdout",
     "output_type": "stream",
     "text": [
      "                   all       4516      10839      0.724      0.711      0.727      0.432\n",
      "\n",
      "      Epoch    GPU_mem   box_loss   cls_loss   dfl_loss  Instances       Size\n"
     ]
    },
    {
     "name": "stderr",
     "output_type": "stream",
     "text": [
      "     59/120      3.75G      1.241       1.01       1.23         42        640: 100%|██████████| 2590/2590 [12:57<00:00,  3.33it/s]\n",
      "                 Class     Images  Instances      Box(P          R      mAP50  mAP50-95): 100%|██████████| 251/251 [01:31<00:00,  2.73it/s]\n"
     ]
    },
    {
     "name": "stdout",
     "output_type": "stream",
     "text": [
      "                   all       4516      10839      0.723      0.712      0.728      0.432\n",
      "\n",
      "      Epoch    GPU_mem   box_loss   cls_loss   dfl_loss  Instances       Size\n"
     ]
    },
    {
     "name": "stderr",
     "output_type": "stream",
     "text": [
      "     60/120      3.74G      1.233      1.002      1.224         20        640: 100%|██████████| 2590/2590 [13:09<00:00,  3.28it/s]\n",
      "                 Class     Images  Instances      Box(P          R      mAP50  mAP50-95): 100%|██████████| 251/251 [01:09<00:00,  3.60it/s]\n"
     ]
    },
    {
     "name": "stdout",
     "output_type": "stream",
     "text": [
      "                   all       4516      10839      0.724      0.712      0.727      0.432\n",
      "\n",
      "      Epoch    GPU_mem   box_loss   cls_loss   dfl_loss  Instances       Size\n"
     ]
    },
    {
     "name": "stderr",
     "output_type": "stream",
     "text": [
      "     61/120      3.77G      1.233      1.014      1.226         30        640: 100%|██████████| 2590/2590 [12:35<00:00,  3.43it/s]\n",
      "                 Class     Images  Instances      Box(P          R      mAP50  mAP50-95): 100%|██████████| 251/251 [01:10<00:00,  3.58it/s]\n"
     ]
    },
    {
     "name": "stdout",
     "output_type": "stream",
     "text": [
      "                   all       4516      10839      0.715      0.719      0.727      0.432\n",
      "\n",
      "      Epoch    GPU_mem   box_loss   cls_loss   dfl_loss  Instances       Size\n"
     ]
    },
    {
     "name": "stderr",
     "output_type": "stream",
     "text": [
      "     62/120      3.76G       1.23     0.9995      1.226         42        640: 100%|██████████| 2590/2590 [12:38<00:00,  3.41it/s]\n",
      "                 Class     Images  Instances      Box(P          R      mAP50  mAP50-95): 100%|██████████| 251/251 [01:09<00:00,  3.61it/s]\n"
     ]
    },
    {
     "name": "stdout",
     "output_type": "stream",
     "text": [
      "                   all       4516      10839      0.718      0.718      0.726      0.432\n",
      "\n",
      "      Epoch    GPU_mem   box_loss   cls_loss   dfl_loss  Instances       Size\n"
     ]
    },
    {
     "name": "stderr",
     "output_type": "stream",
     "text": [
      "     63/120      3.76G      1.217     0.9943      1.218         27        640: 100%|██████████| 2590/2590 [12:39<00:00,  3.41it/s]\n",
      "                 Class     Images  Instances      Box(P          R      mAP50  mAP50-95): 100%|██████████| 251/251 [01:10<00:00,  3.58it/s]\n"
     ]
    },
    {
     "name": "stdout",
     "output_type": "stream",
     "text": [
      "                   all       4516      10839      0.722      0.715      0.726      0.432\n",
      "\n",
      "      Epoch    GPU_mem   box_loss   cls_loss   dfl_loss  Instances       Size\n"
     ]
    },
    {
     "name": "stderr",
     "output_type": "stream",
     "text": [
      "     64/120      3.75G      1.221     0.9849      1.215         57        640: 100%|██████████| 2590/2590 [12:34<00:00,  3.43it/s]\n",
      "                 Class     Images  Instances      Box(P          R      mAP50  mAP50-95): 100%|██████████| 251/251 [01:07<00:00,  3.74it/s]\n"
     ]
    },
    {
     "name": "stdout",
     "output_type": "stream",
     "text": [
      "                   all       4516      10839      0.722      0.716      0.727      0.433\n",
      "\n",
      "      Epoch    GPU_mem   box_loss   cls_loss   dfl_loss  Instances       Size\n"
     ]
    },
    {
     "name": "stderr",
     "output_type": "stream",
     "text": [
      "     65/120      3.75G      1.218     0.9877      1.215         31        640: 100%|██████████| 2590/2590 [12:15<00:00,  3.52it/s]\n",
      "                 Class     Images  Instances      Box(P          R      mAP50  mAP50-95): 100%|██████████| 251/251 [01:05<00:00,  3.84it/s]\n"
     ]
    },
    {
     "name": "stdout",
     "output_type": "stream",
     "text": [
      "                   all       4516      10839      0.726      0.716      0.727      0.433\n",
      "\n",
      "      Epoch    GPU_mem   box_loss   cls_loss   dfl_loss  Instances       Size\n"
     ]
    },
    {
     "name": "stderr",
     "output_type": "stream",
     "text": [
      "     66/120      3.77G      1.208     0.9793      1.208         31        640: 100%|██████████| 2590/2590 [12:15<00:00,  3.52it/s]\n",
      "                 Class     Images  Instances      Box(P          R      mAP50  mAP50-95): 100%|██████████| 251/251 [01:05<00:00,  3.81it/s]\n"
     ]
    },
    {
     "name": "stdout",
     "output_type": "stream",
     "text": [
      "                   all       4516      10839      0.723      0.718      0.728      0.433\n",
      "\n",
      "      Epoch    GPU_mem   box_loss   cls_loss   dfl_loss  Instances       Size\n"
     ]
    },
    {
     "name": "stderr",
     "output_type": "stream",
     "text": [
      "     67/120      3.76G      1.204      0.976      1.205         47        640: 100%|██████████| 2590/2590 [12:15<00:00,  3.52it/s]\n",
      "                 Class     Images  Instances      Box(P          R      mAP50  mAP50-95): 100%|██████████| 251/251 [01:05<00:00,  3.80it/s]\n"
     ]
    },
    {
     "name": "stdout",
     "output_type": "stream",
     "text": [
      "                   all       4516      10839      0.726      0.716      0.728      0.434\n",
      "\n",
      "      Epoch    GPU_mem   box_loss   cls_loss   dfl_loss  Instances       Size\n"
     ]
    },
    {
     "name": "stderr",
     "output_type": "stream",
     "text": [
      "     68/120      3.75G      1.207     0.9719      1.206         23        640: 100%|██████████| 2590/2590 [12:13<00:00,  3.53it/s]\n",
      "                 Class     Images  Instances      Box(P          R      mAP50  mAP50-95): 100%|██████████| 251/251 [01:05<00:00,  3.81it/s]\n"
     ]
    },
    {
     "name": "stdout",
     "output_type": "stream",
     "text": [
      "                   all       4516      10839      0.727      0.717      0.728      0.434\n",
      "\n",
      "      Epoch    GPU_mem   box_loss   cls_loss   dfl_loss  Instances       Size\n"
     ]
    },
    {
     "name": "stderr",
     "output_type": "stream",
     "text": [
      "     69/120      3.77G      1.194     0.9652      1.201         34        640: 100%|██████████| 2590/2590 [12:16<00:00,  3.51it/s]\n",
      "                 Class     Images  Instances      Box(P          R      mAP50  mAP50-95): 100%|██████████| 251/251 [01:06<00:00,  3.79it/s]\n"
     ]
    },
    {
     "name": "stdout",
     "output_type": "stream",
     "text": [
      "                   all       4516      10839      0.728      0.718      0.729      0.434\n",
      "\n",
      "      Epoch    GPU_mem   box_loss   cls_loss   dfl_loss  Instances       Size\n"
     ]
    },
    {
     "name": "stderr",
     "output_type": "stream",
     "text": [
      "     70/120      3.75G      1.192     0.9549      1.197         49        640: 100%|██████████| 2590/2590 [12:16<00:00,  3.52it/s]\n",
      "                 Class     Images  Instances      Box(P          R      mAP50  mAP50-95): 100%|██████████| 251/251 [01:09<00:00,  3.60it/s]\n"
     ]
    },
    {
     "name": "stdout",
     "output_type": "stream",
     "text": [
      "                   all       4516      10839      0.729      0.718      0.729      0.434\n",
      "\n",
      "      Epoch    GPU_mem   box_loss   cls_loss   dfl_loss  Instances       Size\n"
     ]
    },
    {
     "name": "stderr",
     "output_type": "stream",
     "text": [
      "     71/120      3.77G      1.179     0.9489      1.195         34        640: 100%|██████████| 2590/2590 [12:18<00:00,  3.51it/s]\n",
      "                 Class     Images  Instances      Box(P          R      mAP50  mAP50-95): 100%|██████████| 251/251 [01:06<00:00,  3.78it/s]\n"
     ]
    },
    {
     "name": "stdout",
     "output_type": "stream",
     "text": [
      "                   all       4516      10839       0.73      0.718      0.728      0.435\n",
      "\n",
      "      Epoch    GPU_mem   box_loss   cls_loss   dfl_loss  Instances       Size\n"
     ]
    },
    {
     "name": "stderr",
     "output_type": "stream",
     "text": [
      "     72/120      3.76G      1.177      0.943      1.194         34        640: 100%|██████████| 2590/2590 [12:36<00:00,  3.42it/s]\n",
      "                 Class     Images  Instances      Box(P          R      mAP50  mAP50-95): 100%|██████████| 251/251 [01:36<00:00,  2.60it/s]\n"
     ]
    },
    {
     "name": "stdout",
     "output_type": "stream",
     "text": [
      "                   all       4516      10839      0.729      0.719      0.729      0.435\n",
      "\n",
      "      Epoch    GPU_mem   box_loss   cls_loss   dfl_loss  Instances       Size\n"
     ]
    },
    {
     "name": "stderr",
     "output_type": "stream",
     "text": [
      "     73/120      3.77G      1.178     0.9453      1.196         16        640: 100%|██████████| 2590/2590 [12:28<00:00,  3.46it/s]\n",
      "                 Class     Images  Instances      Box(P          R      mAP50  mAP50-95): 100%|██████████| 251/251 [01:06<00:00,  3.77it/s]\n"
     ]
    },
    {
     "name": "stdout",
     "output_type": "stream",
     "text": [
      "                   all       4516      10839      0.727      0.719      0.729      0.435\n",
      "\n",
      "      Epoch    GPU_mem   box_loss   cls_loss   dfl_loss  Instances       Size\n"
     ]
    },
    {
     "name": "stderr",
     "output_type": "stream",
     "text": [
      "     74/120      3.77G      1.171     0.9334      1.186         42        640: 100%|██████████| 2590/2590 [12:32<00:00,  3.44it/s]\n",
      "                 Class     Images  Instances      Box(P          R      mAP50  mAP50-95): 100%|██████████| 251/251 [01:05<00:00,  3.81it/s]\n"
     ]
    },
    {
     "name": "stdout",
     "output_type": "stream",
     "text": [
      "                   all       4516      10839      0.728      0.719      0.729      0.435\n",
      "\n",
      "      Epoch    GPU_mem   box_loss   cls_loss   dfl_loss  Instances       Size\n"
     ]
    },
    {
     "name": "stderr",
     "output_type": "stream",
     "text": [
      "     75/120      3.75G      1.165     0.9298      1.183         34        640: 100%|██████████| 2590/2590 [12:38<00:00,  3.41it/s]\n",
      "                 Class     Images  Instances      Box(P          R      mAP50  mAP50-95): 100%|██████████| 251/251 [01:15<00:00,  3.31it/s]\n"
     ]
    },
    {
     "name": "stdout",
     "output_type": "stream",
     "text": [
      "                   all       4516      10839      0.727      0.721       0.73      0.435\n",
      "\n",
      "      Epoch    GPU_mem   box_loss   cls_loss   dfl_loss  Instances       Size\n"
     ]
    },
    {
     "name": "stderr",
     "output_type": "stream",
     "text": [
      "     76/120      3.77G      1.159     0.9273       1.18         23        640: 100%|██████████| 2590/2590 [12:15<00:00,  3.52it/s]\n",
      "                 Class     Images  Instances      Box(P          R      mAP50  mAP50-95): 100%|██████████| 251/251 [01:05<00:00,  3.82it/s]\n"
     ]
    },
    {
     "name": "stdout",
     "output_type": "stream",
     "text": [
      "                   all       4516      10839      0.727      0.721       0.73      0.435\n",
      "\n",
      "      Epoch    GPU_mem   box_loss   cls_loss   dfl_loss  Instances       Size\n"
     ]
    },
    {
     "name": "stderr",
     "output_type": "stream",
     "text": [
      "     77/120      3.76G      1.154      0.924       1.18         31        640: 100%|██████████| 2590/2590 [12:23<00:00,  3.49it/s]\n",
      "                 Class     Images  Instances      Box(P          R      mAP50  mAP50-95): 100%|██████████| 251/251 [01:04<00:00,  3.89it/s]\n"
     ]
    },
    {
     "name": "stdout",
     "output_type": "stream",
     "text": [
      "                   all       4516      10839      0.724      0.723       0.73      0.436\n",
      "\n",
      "      Epoch    GPU_mem   box_loss   cls_loss   dfl_loss  Instances       Size\n"
     ]
    },
    {
     "name": "stderr",
     "output_type": "stream",
     "text": [
      "     78/120      3.75G      1.155     0.9178      1.179         37        640: 100%|██████████| 2590/2590 [12:18<00:00,  3.51it/s]\n",
      "                 Class     Images  Instances      Box(P          R      mAP50  mAP50-95): 100%|██████████| 251/251 [01:05<00:00,  3.81it/s]\n"
     ]
    },
    {
     "name": "stdout",
     "output_type": "stream",
     "text": [
      "                   all       4516      10839      0.723      0.723       0.73      0.436\n",
      "\n",
      "      Epoch    GPU_mem   box_loss   cls_loss   dfl_loss  Instances       Size\n"
     ]
    },
    {
     "name": "stderr",
     "output_type": "stream",
     "text": [
      "     79/120      3.76G      1.141     0.9072      1.172         39        640: 100%|██████████| 2590/2590 [12:15<00:00,  3.52it/s]\n",
      "                 Class     Images  Instances      Box(P          R      mAP50  mAP50-95): 100%|██████████| 251/251 [01:05<00:00,  3.85it/s]\n"
     ]
    },
    {
     "name": "stdout",
     "output_type": "stream",
     "text": [
      "                   all       4516      10839      0.723      0.724      0.731      0.436\n",
      "\n",
      "      Epoch    GPU_mem   box_loss   cls_loss   dfl_loss  Instances       Size\n"
     ]
    },
    {
     "name": "stderr",
     "output_type": "stream",
     "text": [
      "     80/120      3.75G      1.141     0.9021       1.17         47        640: 100%|██████████| 2590/2590 [12:17<00:00,  3.51it/s]\n",
      "                 Class     Images  Instances      Box(P          R      mAP50  mAP50-95): 100%|██████████| 251/251 [01:05<00:00,  3.83it/s]\n"
     ]
    },
    {
     "name": "stdout",
     "output_type": "stream",
     "text": [
      "                   all       4516      10839      0.727      0.722      0.731      0.436\n",
      "\n",
      "      Epoch    GPU_mem   box_loss   cls_loss   dfl_loss  Instances       Size\n"
     ]
    },
    {
     "name": "stderr",
     "output_type": "stream",
     "text": [
      "     81/120      3.74G      1.133     0.8993      1.167         33        640: 100%|██████████| 2590/2590 [12:16<00:00,  3.52it/s]\n",
      "                 Class     Images  Instances      Box(P          R      mAP50  mAP50-95): 100%|██████████| 251/251 [01:06<00:00,  3.77it/s]\n"
     ]
    },
    {
     "name": "stdout",
     "output_type": "stream",
     "text": [
      "                   all       4516      10839      0.728      0.721      0.731      0.436\n",
      "\n",
      "      Epoch    GPU_mem   box_loss   cls_loss   dfl_loss  Instances       Size\n"
     ]
    },
    {
     "name": "stderr",
     "output_type": "stream",
     "text": [
      "     82/120      3.73G      1.131      0.895      1.163         28        640: 100%|██████████| 2590/2590 [12:18<00:00,  3.51it/s]\n",
      "                 Class     Images  Instances      Box(P          R      mAP50  mAP50-95): 100%|██████████| 251/251 [01:06<00:00,  3.78it/s]\n"
     ]
    },
    {
     "name": "stdout",
     "output_type": "stream",
     "text": [
      "                   all       4516      10839      0.728      0.721      0.731      0.437\n",
      "\n",
      "      Epoch    GPU_mem   box_loss   cls_loss   dfl_loss  Instances       Size\n"
     ]
    },
    {
     "name": "stderr",
     "output_type": "stream",
     "text": [
      "     83/120      3.74G      1.129      0.888      1.165         28        640: 100%|██████████| 2590/2590 [12:32<00:00,  3.44it/s]\n",
      "                 Class     Images  Instances      Box(P          R      mAP50  mAP50-95): 100%|██████████| 251/251 [01:37<00:00,  2.58it/s]\n"
     ]
    },
    {
     "name": "stdout",
     "output_type": "stream",
     "text": [
      "                   all       4516      10839       0.73      0.721      0.731      0.437\n",
      "\n",
      "      Epoch    GPU_mem   box_loss   cls_loss   dfl_loss  Instances       Size\n"
     ]
    },
    {
     "name": "stderr",
     "output_type": "stream",
     "text": [
      "     84/120      3.75G      1.122     0.8833       1.16         30        640: 100%|██████████| 2590/2590 [12:38<00:00,  3.41it/s]\n",
      "                 Class     Images  Instances      Box(P          R      mAP50  mAP50-95): 100%|██████████| 251/251 [01:05<00:00,  3.82it/s]\n"
     ]
    },
    {
     "name": "stdout",
     "output_type": "stream",
     "text": [
      "                   all       4516      10839      0.731       0.72      0.732      0.437\n",
      "\n",
      "      Epoch    GPU_mem   box_loss   cls_loss   dfl_loss  Instances       Size\n"
     ]
    },
    {
     "name": "stderr",
     "output_type": "stream",
     "text": [
      "     85/120      3.77G      1.118     0.8757      1.159         30        640: 100%|██████████| 2590/2590 [12:15<00:00,  3.52it/s]\n",
      "                 Class     Images  Instances      Box(P          R      mAP50  mAP50-95): 100%|██████████| 251/251 [01:06<00:00,  3.79it/s]\n"
     ]
    },
    {
     "name": "stdout",
     "output_type": "stream",
     "text": [
      "                   all       4516      10839      0.724      0.726      0.732      0.437\n",
      "\n",
      "      Epoch    GPU_mem   box_loss   cls_loss   dfl_loss  Instances       Size\n"
     ]
    },
    {
     "name": "stderr",
     "output_type": "stream",
     "text": [
      "     86/120      3.77G      1.114     0.8734      1.157         31        640: 100%|██████████| 2590/2590 [12:29<00:00,  3.46it/s]\n",
      "                 Class     Images  Instances      Box(P          R      mAP50  mAP50-95): 100%|██████████| 251/251 [01:08<00:00,  3.69it/s]\n"
     ]
    },
    {
     "name": "stdout",
     "output_type": "stream",
     "text": [
      "                   all       4516      10839      0.733      0.722      0.732      0.438\n",
      "\n",
      "      Epoch    GPU_mem   box_loss   cls_loss   dfl_loss  Instances       Size\n"
     ]
    },
    {
     "name": "stderr",
     "output_type": "stream",
     "text": [
      "     87/120      3.76G      1.103     0.8588      1.151         60        640: 100%|██████████| 2590/2590 [12:37<00:00,  3.42it/s]\n",
      "                 Class     Images  Instances      Box(P          R      mAP50  mAP50-95): 100%|██████████| 251/251 [01:09<00:00,  3.62it/s]\n"
     ]
    },
    {
     "name": "stdout",
     "output_type": "stream",
     "text": [
      "                   all       4516      10839      0.732      0.723      0.733      0.438\n",
      "\n",
      "      Epoch    GPU_mem   box_loss   cls_loss   dfl_loss  Instances       Size\n"
     ]
    },
    {
     "name": "stderr",
     "output_type": "stream",
     "text": [
      "     88/120      3.75G        1.1     0.8604      1.146         40        640: 100%|██████████| 2590/2590 [12:40<00:00,  3.41it/s]\n",
      "                 Class     Images  Instances      Box(P          R      mAP50  mAP50-95): 100%|██████████| 251/251 [01:14<00:00,  3.37it/s]\n"
     ]
    },
    {
     "name": "stdout",
     "output_type": "stream",
     "text": [
      "                   all       4516      10839      0.731      0.724      0.733      0.438\n",
      "\n",
      "      Epoch    GPU_mem   box_loss   cls_loss   dfl_loss  Instances       Size\n"
     ]
    },
    {
     "name": "stderr",
     "output_type": "stream",
     "text": [
      "     89/120      3.77G      1.097     0.8524      1.142         39        640: 100%|██████████| 2590/2590 [12:27<00:00,  3.46it/s]\n",
      "                 Class     Images  Instances      Box(P          R      mAP50  mAP50-95): 100%|██████████| 251/251 [01:06<00:00,  3.75it/s]\n"
     ]
    },
    {
     "name": "stdout",
     "output_type": "stream",
     "text": [
      "                   all       4516      10839       0.73      0.726      0.733      0.439\n",
      "\n",
      "      Epoch    GPU_mem   box_loss   cls_loss   dfl_loss  Instances       Size\n"
     ]
    },
    {
     "name": "stderr",
     "output_type": "stream",
     "text": [
      "     90/120      3.76G      1.092     0.8489      1.139         46        640: 100%|██████████| 2590/2590 [12:26<00:00,  3.47it/s]\n",
      "                 Class     Images  Instances      Box(P          R      mAP50  mAP50-95): 100%|██████████| 251/251 [01:09<00:00,  3.61it/s]\n"
     ]
    },
    {
     "name": "stdout",
     "output_type": "stream",
     "text": [
      "                   all       4516      10839       0.73      0.727      0.733      0.439\n",
      "\n",
      "      Epoch    GPU_mem   box_loss   cls_loss   dfl_loss  Instances       Size\n"
     ]
    },
    {
     "name": "stderr",
     "output_type": "stream",
     "text": [
      "     91/120      3.78G      1.085     0.8505       1.14         23        640: 100%|██████████| 2590/2590 [12:41<00:00,  3.40it/s]\n",
      "                 Class     Images  Instances      Box(P          R      mAP50  mAP50-95): 100%|██████████| 251/251 [01:08<00:00,  3.65it/s]\n"
     ]
    },
    {
     "name": "stdout",
     "output_type": "stream",
     "text": [
      "                   all       4516      10839      0.728      0.729      0.733       0.44\n",
      "\n",
      "      Epoch    GPU_mem   box_loss   cls_loss   dfl_loss  Instances       Size\n"
     ]
    },
    {
     "name": "stderr",
     "output_type": "stream",
     "text": [
      "     92/120      3.76G      1.079       0.84      1.138         49        640: 100%|██████████| 2590/2590 [12:44<00:00,  3.39it/s]\n",
      "                 Class     Images  Instances      Box(P          R      mAP50  mAP50-95): 100%|██████████| 251/251 [01:09<00:00,  3.61it/s]\n"
     ]
    },
    {
     "name": "stdout",
     "output_type": "stream",
     "text": [
      "                   all       4516      10839      0.729      0.729      0.733      0.439\n",
      "\n",
      "      Epoch    GPU_mem   box_loss   cls_loss   dfl_loss  Instances       Size\n"
     ]
    },
    {
     "name": "stderr",
     "output_type": "stream",
     "text": [
      "     93/120      3.77G      1.073     0.8325      1.135         53        640: 100%|██████████| 2590/2590 [12:46<00:00,  3.38it/s]\n",
      "                 Class     Images  Instances      Box(P          R      mAP50  mAP50-95): 100%|██████████| 251/251 [01:08<00:00,  3.66it/s]\n"
     ]
    },
    {
     "name": "stdout",
     "output_type": "stream",
     "text": [
      "                   all       4516      10839      0.732      0.727      0.733       0.44\n",
      "\n",
      "      Epoch    GPU_mem   box_loss   cls_loss   dfl_loss  Instances       Size\n"
     ]
    },
    {
     "name": "stderr",
     "output_type": "stream",
     "text": [
      "     94/120      3.77G      1.068      0.828      1.128         46        640: 100%|██████████| 2590/2590 [13:29<00:00,  3.20it/s]\n",
      "                 Class     Images  Instances      Box(P          R      mAP50  mAP50-95): 100%|██████████| 251/251 [01:33<00:00,  2.69it/s]\n"
     ]
    },
    {
     "name": "stdout",
     "output_type": "stream",
     "text": [
      "                   all       4516      10839      0.734      0.726      0.733       0.44\n",
      "\n",
      "      Epoch    GPU_mem   box_loss   cls_loss   dfl_loss  Instances       Size\n"
     ]
    },
    {
     "name": "stderr",
     "output_type": "stream",
     "text": [
      "     95/120      3.77G      1.061     0.8205      1.125         28        640: 100%|██████████| 2590/2590 [13:24<00:00,  3.22it/s]\n",
      "                 Class     Images  Instances      Box(P          R      mAP50  mAP50-95): 100%|██████████| 251/251 [01:15<00:00,  3.31it/s]\n"
     ]
    },
    {
     "name": "stdout",
     "output_type": "stream",
     "text": [
      "                   all       4516      10839      0.735      0.724      0.733       0.44\n",
      "\n",
      "      Epoch    GPU_mem   box_loss   cls_loss   dfl_loss  Instances       Size\n"
     ]
    },
    {
     "name": "stderr",
     "output_type": "stream",
     "text": [
      "     96/120      3.76G      1.053     0.8099       1.12         39        640: 100%|██████████| 2590/2590 [13:33<00:00,  3.18it/s]\n",
      "                 Class     Images  Instances      Box(P          R      mAP50  mAP50-95): 100%|██████████| 251/251 [01:26<00:00,  2.89it/s]\n"
     ]
    },
    {
     "name": "stdout",
     "output_type": "stream",
     "text": [
      "                   all       4516      10839      0.737      0.725      0.733       0.44\n",
      "\n",
      "      Epoch    GPU_mem   box_loss   cls_loss   dfl_loss  Instances       Size\n"
     ]
    },
    {
     "name": "stderr",
     "output_type": "stream",
     "text": [
      "     97/120      3.75G      1.051     0.8088      1.119         42        640: 100%|██████████| 2590/2590 [13:33<00:00,  3.18it/s]\n",
      "                 Class     Images  Instances      Box(P          R      mAP50  mAP50-95): 100%|██████████| 251/251 [01:07<00:00,  3.71it/s]\n"
     ]
    },
    {
     "name": "stdout",
     "output_type": "stream",
     "text": [
      "                   all       4516      10839      0.737      0.727      0.734       0.44\n",
      "\n",
      "      Epoch    GPU_mem   box_loss   cls_loss   dfl_loss  Instances       Size\n"
     ]
    },
    {
     "name": "stderr",
     "output_type": "stream",
     "text": [
      "     98/120      3.75G      1.047     0.7998       1.12         56        640: 100%|██████████| 2590/2590 [12:31<00:00,  3.45it/s]\n",
      "                 Class     Images  Instances      Box(P          R      mAP50  mAP50-95): 100%|██████████| 251/251 [01:07<00:00,  3.73it/s]\n"
     ]
    },
    {
     "name": "stdout",
     "output_type": "stream",
     "text": [
      "                   all       4516      10839      0.737      0.725      0.734      0.441\n",
      "\n",
      "      Epoch    GPU_mem   box_loss   cls_loss   dfl_loss  Instances       Size\n"
     ]
    },
    {
     "name": "stderr",
     "output_type": "stream",
     "text": [
      "     99/120      3.77G       1.04     0.7964      1.114         47        640: 100%|██████████| 2590/2590 [12:33<00:00,  3.44it/s]\n",
      "                 Class     Images  Instances      Box(P          R      mAP50  mAP50-95): 100%|██████████| 251/251 [01:12<00:00,  3.46it/s]\n"
     ]
    },
    {
     "name": "stdout",
     "output_type": "stream",
     "text": [
      "                   all       4516      10839      0.738      0.724      0.734      0.441\n",
      "\n",
      "      Epoch    GPU_mem   box_loss   cls_loss   dfl_loss  Instances       Size\n"
     ]
    },
    {
     "name": "stderr",
     "output_type": "stream",
     "text": [
      "    100/120      3.77G      1.036     0.7865      1.114         31        640: 100%|██████████| 2590/2590 [12:28<00:00,  3.46it/s]\n",
      "                 Class     Images  Instances      Box(P          R      mAP50  mAP50-95): 100%|██████████| 251/251 [01:06<00:00,  3.77it/s]\n"
     ]
    },
    {
     "name": "stdout",
     "output_type": "stream",
     "text": [
      "                   all       4516      10839      0.736      0.726      0.734      0.441\n",
      "\n",
      "      Epoch    GPU_mem   box_loss   cls_loss   dfl_loss  Instances       Size\n"
     ]
    },
    {
     "name": "stderr",
     "output_type": "stream",
     "text": [
      "    101/120      3.75G      1.029     0.7892       1.11         45        640: 100%|██████████| 2590/2590 [12:16<00:00,  3.52it/s]\n",
      "                 Class     Images  Instances      Box(P          R      mAP50  mAP50-95): 100%|██████████| 251/251 [01:07<00:00,  3.75it/s]\n"
     ]
    },
    {
     "name": "stdout",
     "output_type": "stream",
     "text": [
      "                   all       4516      10839       0.74      0.723      0.734      0.443\n",
      "\n",
      "      Epoch    GPU_mem   box_loss   cls_loss   dfl_loss  Instances       Size\n"
     ]
    },
    {
     "name": "stderr",
     "output_type": "stream",
     "text": [
      "    102/120      3.75G      1.019     0.7755      1.106         44        640: 100%|██████████| 2590/2590 [12:15<00:00,  3.52it/s]\n",
      "                 Class     Images  Instances      Box(P          R      mAP50  mAP50-95): 100%|██████████| 251/251 [01:06<00:00,  3.76it/s]\n"
     ]
    },
    {
     "name": "stdout",
     "output_type": "stream",
     "text": [
      "                   all       4516      10839       0.74      0.723      0.734      0.443\n",
      "\n",
      "      Epoch    GPU_mem   box_loss   cls_loss   dfl_loss  Instances       Size\n"
     ]
    },
    {
     "name": "stderr",
     "output_type": "stream",
     "text": [
      "    103/120      3.75G      1.013     0.7708      1.102         31        640: 100%|██████████| 2590/2590 [13:22<00:00,  3.23it/s]\n",
      "                 Class     Images  Instances      Box(P          R      mAP50  mAP50-95): 100%|██████████| 251/251 [01:30<00:00,  2.78it/s]\n"
     ]
    },
    {
     "name": "stdout",
     "output_type": "stream",
     "text": [
      "                   all       4516      10839      0.741      0.722      0.734      0.443\n",
      "\n",
      "      Epoch    GPU_mem   box_loss   cls_loss   dfl_loss  Instances       Size\n"
     ]
    },
    {
     "name": "stderr",
     "output_type": "stream",
     "text": [
      "    104/120      3.75G      1.013     0.7694      1.102         47        640: 100%|██████████| 2590/2590 [12:23<00:00,  3.48it/s]\n",
      "                 Class     Images  Instances      Box(P          R      mAP50  mAP50-95): 100%|██████████| 251/251 [01:06<00:00,  3.77it/s]\n"
     ]
    },
    {
     "name": "stdout",
     "output_type": "stream",
     "text": [
      "                   all       4516      10839       0.74      0.723      0.734      0.442\n",
      "\n",
      "      Epoch    GPU_mem   box_loss   cls_loss   dfl_loss  Instances       Size\n"
     ]
    },
    {
     "name": "stderr",
     "output_type": "stream",
     "text": [
      "    105/120      3.76G      1.003     0.7553      1.096         34        640: 100%|██████████| 2590/2590 [12:27<00:00,  3.47it/s]\n",
      "                 Class     Images  Instances      Box(P          R      mAP50  mAP50-95): 100%|██████████| 251/251 [01:08<00:00,  3.68it/s]\n"
     ]
    },
    {
     "name": "stdout",
     "output_type": "stream",
     "text": [
      "                   all       4516      10839      0.742      0.723      0.734      0.443\n",
      "\n",
      "      Epoch    GPU_mem   box_loss   cls_loss   dfl_loss  Instances       Size\n"
     ]
    },
    {
     "name": "stderr",
     "output_type": "stream",
     "text": [
      "    106/120      3.76G      1.001     0.7553      1.093         27        640: 100%|██████████| 2590/2590 [12:36<00:00,  3.43it/s]\n",
      "                 Class     Images  Instances      Box(P          R      mAP50  mAP50-95): 100%|██████████| 251/251 [01:09<00:00,  3.59it/s]\n"
     ]
    },
    {
     "name": "stdout",
     "output_type": "stream",
     "text": [
      "                   all       4516      10839      0.743      0.723      0.734      0.443\n",
      "\n",
      "      Epoch    GPU_mem   box_loss   cls_loss   dfl_loss  Instances       Size\n"
     ]
    },
    {
     "name": "stderr",
     "output_type": "stream",
     "text": [
      "    107/120      3.75G     0.9955     0.7521       1.09         20        640: 100%|██████████| 2590/2590 [14:07<00:00,  3.06it/s]\n",
      "                 Class     Images  Instances      Box(P          R      mAP50  mAP50-95): 100%|██████████| 251/251 [01:20<00:00,  3.10it/s]\n"
     ]
    },
    {
     "name": "stdout",
     "output_type": "stream",
     "text": [
      "                   all       4516      10839      0.743      0.724      0.734      0.442\n",
      "\n",
      "      Epoch    GPU_mem   box_loss   cls_loss   dfl_loss  Instances       Size\n"
     ]
    },
    {
     "name": "stderr",
     "output_type": "stream",
     "text": [
      "    108/120      3.75G     0.9905     0.7467      1.089         41        640: 100%|██████████| 2590/2590 [14:01<00:00,  3.08it/s]\n",
      "                 Class     Images  Instances      Box(P          R      mAP50  mAP50-95): 100%|██████████| 251/251 [01:24<00:00,  2.99it/s]\n"
     ]
    },
    {
     "name": "stdout",
     "output_type": "stream",
     "text": [
      "                   all       4516      10839      0.746      0.721      0.734      0.442\n",
      "\n",
      "      Epoch    GPU_mem   box_loss   cls_loss   dfl_loss  Instances       Size\n"
     ]
    },
    {
     "name": "stderr",
     "output_type": "stream",
     "text": [
      "    109/120      3.76G     0.9769     0.7373      1.083         31        640: 100%|██████████| 2590/2590 [12:14<00:00,  3.53it/s]\n",
      "                 Class     Images  Instances      Box(P          R      mAP50  mAP50-95): 100%|██████████| 251/251 [01:02<00:00,  4.00it/s]\n"
     ]
    },
    {
     "name": "stdout",
     "output_type": "stream",
     "text": [
      "                   all       4516      10839      0.746      0.721      0.734      0.442\n",
      "\n",
      "      Epoch    GPU_mem   box_loss   cls_loss   dfl_loss  Instances       Size\n"
     ]
    },
    {
     "name": "stderr",
     "output_type": "stream",
     "text": [
      "    110/120      3.77G     0.9719     0.7342       1.08         37        640: 100%|██████████| 2590/2590 [12:19<00:00,  3.50it/s]\n",
      "                 Class     Images  Instances      Box(P          R      mAP50  mAP50-95): 100%|██████████| 251/251 [01:09<00:00,  3.60it/s]\n"
     ]
    },
    {
     "name": "stdout",
     "output_type": "stream",
     "text": [
      "                   all       4516      10839      0.743      0.724      0.734      0.442\n",
      "Closing dataloader mosaic\n",
      "\n",
      "      Epoch    GPU_mem   box_loss   cls_loss   dfl_loss  Instances       Size\n"
     ]
    },
    {
     "name": "stderr",
     "output_type": "stream",
     "text": [
      "    111/120      3.75G     0.9667     0.6781      1.087          8        640: 100%|██████████| 2590/2590 [13:21<00:00,  3.23it/s]\n",
      "                 Class     Images  Instances      Box(P          R      mAP50  mAP50-95): 100%|██████████| 251/251 [01:05<00:00,  3.82it/s]\n"
     ]
    },
    {
     "name": "stdout",
     "output_type": "stream",
     "text": [
      "                   all       4516      10839      0.743      0.724      0.734      0.442\n",
      "\n",
      "      Epoch    GPU_mem   box_loss   cls_loss   dfl_loss  Instances       Size\n"
     ]
    },
    {
     "name": "stderr",
     "output_type": "stream",
     "text": [
      "    112/120      3.75G     0.9491     0.6602      1.078         13        640: 100%|██████████| 2590/2590 [12:16<00:00,  3.51it/s]\n",
      "                 Class     Images  Instances      Box(P          R      mAP50  mAP50-95): 100%|██████████| 251/251 [01:07<00:00,  3.72it/s]\n"
     ]
    },
    {
     "name": "stdout",
     "output_type": "stream",
     "text": [
      "                   all       4516      10839      0.742      0.725      0.734      0.442\n",
      "\n",
      "      Epoch    GPU_mem   box_loss   cls_loss   dfl_loss  Instances       Size\n"
     ]
    },
    {
     "name": "stderr",
     "output_type": "stream",
     "text": [
      "    113/120      3.76G     0.9398     0.6526      1.077         18        640: 100%|██████████| 2590/2590 [13:12<00:00,  3.27it/s]\n",
      "                 Class     Images  Instances      Box(P          R      mAP50  mAP50-95): 100%|██████████| 251/251 [01:34<00:00,  2.65it/s]\n"
     ]
    },
    {
     "name": "stdout",
     "output_type": "stream",
     "text": [
      "                   all       4516      10839      0.743      0.725      0.734      0.443\n",
      "\n",
      "      Epoch    GPU_mem   box_loss   cls_loss   dfl_loss  Instances       Size\n"
     ]
    },
    {
     "name": "stderr",
     "output_type": "stream",
     "text": [
      "    114/120      3.75G     0.9322     0.6418      1.072         11        640: 100%|██████████| 2590/2590 [13:17<00:00,  3.25it/s]\n",
      "                 Class     Images  Instances      Box(P          R      mAP50  mAP50-95): 100%|██████████| 251/251 [01:04<00:00,  3.88it/s]\n"
     ]
    },
    {
     "name": "stdout",
     "output_type": "stream",
     "text": [
      "                   all       4516      10839      0.743      0.724      0.733      0.443\n",
      "\n",
      "      Epoch    GPU_mem   box_loss   cls_loss   dfl_loss  Instances       Size\n"
     ]
    },
    {
     "name": "stderr",
     "output_type": "stream",
     "text": [
      "    115/120      3.76G     0.9197     0.6324      1.067         13        640: 100%|██████████| 2590/2590 [12:42<00:00,  3.40it/s]\n",
      "                 Class     Images  Instances      Box(P          R      mAP50  mAP50-95): 100%|██████████| 251/251 [01:34<00:00,  2.67it/s]\n"
     ]
    },
    {
     "name": "stdout",
     "output_type": "stream",
     "text": [
      "                   all       4516      10839      0.744      0.725      0.734      0.443\n",
      "\n",
      "      Epoch    GPU_mem   box_loss   cls_loss   dfl_loss  Instances       Size\n"
     ]
    },
    {
     "name": "stderr",
     "output_type": "stream",
     "text": [
      "    116/120      3.75G     0.9131     0.6203      1.062         18        640: 100%|██████████| 2590/2590 [13:16<00:00,  3.25it/s]\n",
      "                 Class     Images  Instances      Box(P          R      mAP50  mAP50-95): 100%|██████████| 251/251 [01:05<00:00,  3.84it/s]\n"
     ]
    },
    {
     "name": "stdout",
     "output_type": "stream",
     "text": [
      "                   all       4516      10839      0.739      0.726      0.733      0.443\n",
      "\n",
      "      Epoch    GPU_mem   box_loss   cls_loss   dfl_loss  Instances       Size\n"
     ]
    },
    {
     "name": "stderr",
     "output_type": "stream",
     "text": [
      "    117/120      3.75G     0.9039     0.6187      1.057         26        640: 100%|██████████| 2590/2590 [12:11<00:00,  3.54it/s]\n",
      "                 Class     Images  Instances      Box(P          R      mAP50  mAP50-95): 100%|██████████| 251/251 [01:05<00:00,  3.80it/s]"
     ]
    },
    {
     "name": "stdout",
     "output_type": "stream",
     "text": [
      "                   all       4516      10839       0.74      0.726      0.734      0.443\n"
     ]
    },
    {
     "name": "stderr",
     "output_type": "stream",
     "text": [
      "\n"
     ]
    },
    {
     "name": "stdout",
     "output_type": "stream",
     "text": [
      "\n",
      "      Epoch    GPU_mem   box_loss   cls_loss   dfl_loss  Instances       Size\n"
     ]
    },
    {
     "name": "stderr",
     "output_type": "stream",
     "text": [
      "    118/120      3.75G     0.8985     0.6088      1.056         12        640: 100%|██████████| 2590/2590 [12:11<00:00,  3.54it/s]\n",
      "                 Class     Images  Instances      Box(P          R      mAP50  mAP50-95): 100%|██████████| 251/251 [01:03<00:00,  3.97it/s]"
     ]
    },
    {
     "name": "stdout",
     "output_type": "stream",
     "text": [
      "                   all       4516      10839      0.739      0.727      0.733      0.443\n"
     ]
    },
    {
     "name": "stderr",
     "output_type": "stream",
     "text": [
      "\n"
     ]
    },
    {
     "name": "stdout",
     "output_type": "stream",
     "text": [
      "\n",
      "      Epoch    GPU_mem   box_loss   cls_loss   dfl_loss  Instances       Size\n"
     ]
    },
    {
     "name": "stderr",
     "output_type": "stream",
     "text": [
      "    119/120      3.76G      0.892     0.6034      1.054         12        640: 100%|██████████| 2590/2590 [12:09<00:00,  3.55it/s]\n",
      "                 Class     Images  Instances      Box(P          R      mAP50  mAP50-95): 100%|██████████| 251/251 [01:05<00:00,  3.82it/s]\n"
     ]
    },
    {
     "name": "stdout",
     "output_type": "stream",
     "text": [
      "                   all       4516      10839      0.738      0.729      0.733      0.443\n",
      "\n",
      "      Epoch    GPU_mem   box_loss   cls_loss   dfl_loss  Instances       Size\n"
     ]
    },
    {
     "name": "stderr",
     "output_type": "stream",
     "text": [
      "    120/120      3.75G     0.8841     0.5954      1.048         26        640: 100%|██████████| 2590/2590 [12:15<00:00,  3.52it/s]\n",
      "                 Class     Images  Instances      Box(P          R      mAP50  mAP50-95): 100%|██████████| 251/251 [01:08<00:00,  3.64it/s]"
     ]
    },
    {
     "name": "stdout",
     "output_type": "stream",
     "text": [
      "                   all       4516      10839      0.737      0.729      0.733      0.443\n"
     ]
    },
    {
     "name": "stderr",
     "output_type": "stream",
     "text": [
      "\n"
     ]
    },
    {
     "name": "stdout",
     "output_type": "stream",
     "text": [
      "\n",
      "120 epochs completed in 27.833 hours.\n",
      "Optimizer stripped from RoadDetectionModel\\RoadModel_yolov8m.pt_rounds120_b9\\weights\\last.pt, 52.0MB\n",
      "Optimizer stripped from RoadDetectionModel\\RoadModel_yolov8m.pt_rounds120_b9\\weights\\best.pt, 52.0MB\n",
      "\n",
      "Validating RoadDetectionModel\\RoadModel_yolov8m.pt_rounds120_b9\\weights\\best.pt...\n",
      "Ultralytics 8.3.116  Python-3.9.21 torch-2.7.0+cu128 CUDA:0 (NVIDIA GeForce RTX 3060 Laptop GPU, 6144MiB)\n",
      "Model summary (fused): 92 layers, 25,843,813 parameters, 0 gradients, 78.7 GFLOPs\n"
     ]
    },
    {
     "name": "stderr",
     "output_type": "stream",
     "text": [
      "                 Class     Images  Instances      Box(P          R      mAP50  mAP50-95): 100%|██████████| 251/251 [01:07<00:00,  3.69it/s]\n"
     ]
    },
    {
     "name": "stdout",
     "output_type": "stream",
     "text": [
      "                   all       4516      10839      0.738      0.726      0.733      0.443\n",
      "         Heavy-Vehicle        511        672      0.921      0.976      0.979      0.764\n",
      "         Light-Vehicle        960       2201      0.894      0.965      0.967      0.659\n",
      "            Pedestrian        337        549      0.838      0.903       0.91      0.494\n",
      "                 Crack       2050       3742      0.553       0.43      0.454      0.219\n",
      "          Crack-Severe       1368       1861      0.526      0.467      0.471      0.265\n",
      "               Pothole        750       1578      0.595      0.432      0.432      0.171\n",
      "            Speed-Bump        226        236      0.842      0.911      0.919       0.53\n",
      "Speed: 0.2ms preprocess, 7.0ms inference, 0.0ms loss, 2.3ms postprocess per image\n",
      "Results saved to \u001b[1mRoadDetectionModel\\RoadModel_yolov8m.pt_rounds120_b9\u001b[0m\n",
      "\n",
      "✓ Training complete!\n",
      "✓ Results saved to: RoadDetectionModel\\RoadModel_yolov8m.pt_rounds120_b9\n",
      "\n",
      "Evaluating model on test images...\n",
      "Ultralytics 8.3.116  Python-3.9.21 torch-2.7.0+cu128 CUDA:0 (NVIDIA GeForce RTX 3060 Laptop GPU, 6144MiB)\n",
      "Model summary (fused): 92 layers, 25,843,813 parameters, 0 gradients, 78.7 GFLOPs\n",
      "\u001b[34m\u001b[1mval: \u001b[0mFast image access  (ping: 0.30.1 ms, read: 18.48.1 MB/s, size: 189.6 KB)\n"
     ]
    },
    {
     "name": "stderr",
     "output_type": "stream",
     "text": [
      "\u001b[34m\u001b[1mval: \u001b[0mScanning C:\\Users\\Navneet Sharma\\Documents\\GitHub\\Road-Anomaly-Detection\\dataset\\test\\labels... 2846 images, 0 backgrounds, 2 corrupt: 100%|██████████| 2846/2846 [00:07<00:00, 386.22it/s]"
     ]
    },
    {
     "name": "stdout",
     "output_type": "stream",
     "text": [
      "\u001b[34m\u001b[1mval: \u001b[0mC:\\Users\\Navneet Sharma\\Documents\\GitHub\\Road-Anomaly-Detection\\dataset\\test\\images\\dataset4_DJI_20230707094940_0228_640_02_07.jpg: ignoring corrupt image/label: non-normalized or out of bounds coordinates [     1.0063]\n",
      "\u001b[34m\u001b[1mval: \u001b[0mC:\\Users\\Navneet Sharma\\Documents\\GitHub\\Road-Anomaly-Detection\\dataset\\test\\images\\dataset4_DJI_20230707095001_0248_640_05_07.jpg: ignoring corrupt image/label: non-normalized or out of bounds coordinates [     1.0047]\n"
     ]
    },
    {
     "name": "stderr",
     "output_type": "stream",
     "text": [
      "\n"
     ]
    },
    {
     "name": "stdout",
     "output_type": "stream",
     "text": [
      "\u001b[34m\u001b[1mval: \u001b[0mNew cache created: C:\\Users\\Navneet Sharma\\Documents\\GitHub\\Road-Anomaly-Detection\\dataset\\test\\labels.cache\n"
     ]
    },
    {
     "name": "stderr",
     "output_type": "stream",
     "text": [
      "                 Class     Images  Instances      Box(P          R      mAP50  mAP50-95): 100%|██████████| 178/178 [00:53<00:00,  3.34it/s]\n"
     ]
    },
    {
     "name": "stdout",
     "output_type": "stream",
     "text": [
      "                   all       2844       7696      0.736       0.74      0.745      0.447\n",
      "         Heavy-Vehicle        504        647      0.913      0.978      0.981      0.763\n",
      "         Light-Vehicle        928       2158      0.892      0.951      0.961      0.649\n",
      "            Pedestrian        317        561      0.822      0.915      0.918      0.522\n",
      "                 Crack       1284       2413      0.576      0.484      0.505       0.24\n",
      "          Crack-Severe        722       1005      0.548      0.503      0.493      0.273\n",
      "               Pothole        347        771      0.595      0.438      0.468      0.199\n",
      "            Speed-Bump        135        141      0.804      0.908      0.885      0.485\n",
      "Speed: 0.2ms preprocess, 11.2ms inference, 0.0ms loss, 1.8ms postprocess per image\n",
      "Results saved to \u001b[1mruns\\detect\\val\u001b[0m\n",
      "\n",
      "--- Model Performance Summary (Test Set) ---\n",
      "\n",
      "Overall Detection Metrics:\n",
      "  ├─ mAP@.5:.95: 44.7%\n",
      "  └─ mAP@.5:    74.5%\n",
      "\n",
      "Per-Class Performance (mAP):\n",
      "  Heavy-Vehicle:\n",
      "    ├─ mAP@.5:.95: 76.3%\n",
      "    └─ mAP@.5:    98.1%\n",
      "  Light-Vehicle:\n",
      "    ├─ mAP@.5:.95: 64.9%\n",
      "    └─ mAP@.5:    96.1%\n",
      "  Pedestrian:\n",
      "    ├─ mAP@.5:.95: 52.2%\n",
      "    └─ mAP@.5:    91.8%\n",
      "  Crack:\n",
      "    ├─ mAP@.5:.95: 24.0%\n",
      "    └─ mAP@.5:    50.5%\n",
      "  Crack-Severe:\n",
      "    ├─ mAP@.5:.95: 27.3%\n",
      "    └─ mAP@.5:    49.3%\n",
      "  Pothole:\n",
      "    ├─ mAP@.5:.95: 19.9%\n",
      "    └─ mAP@.5:    46.8%\n",
      "  Speed-Bump:\n",
      "    ├─ mAP@.5:.95: 48.5%\n",
      "    └─ mAP@.5:    88.5%\n",
      "\n",
      "Model training and evaluation complete!\n",
      "Your best trained model is saved at: RoadDetectionModel\\RoadModel_yolov8m.pt_rounds120_b9\\weights\\best.pt\n"
     ]
    }
   ],
   "source": [
    "def main():\n",
    "    print(\"\\n=== Road Defect Detection Model Training ===\\n\")\n",
    "\n",
    "    data_path_obj = Path(DATA_PATH)\n",
    "    if not data_path_obj.is_file():\n",
    "        print(f\"❌ Error: Dataset configuration file not found at {DATA_PATH}\")\n",
    "        print(\"   Please check the file path and try again.\")\n",
    "        return\n",
    "\n",
    "    check_system_resources()\n",
    "\n",
    "\n",
    "    print(f\"\\nLoading model: {MODEL_SIZE}\")\n",
    "    model = YOLO(MODEL_SIZE)\n",
    "\n",
    "    print(f\"\\nStarting training:\")\n",
    "    print(f\"  - Dataset Config: {DATA_PATH}\")\n",
    "    print(f\"  - Training Rounds: {TRAINING_ROUNDS}\")\n",
    "    print(f\"  - Image Size: {IMAGE_SIZE}\")\n",
    "    print(f\"  - Batch Size: {BATCH_SIZE}\")\n",
    "    print(f\"  - Patience: {PATIENCE}\")\n",
    "    print(f\"  - Saving to: {SAVE_FOLDER}/{RUN_NAME}\")\n",
    "\n",
    "    results = model.train(\n",
    "        data=str(data_path_obj), \n",
    "        epochs=TRAINING_ROUNDS,\n",
    "        imgsz=IMAGE_SIZE,\n",
    "        batch=BATCH_SIZE,\n",
    "        patience=PATIENCE,\n",
    "        project=SAVE_FOLDER,\n",
    "        name=RUN_NAME,\n",
    "        exist_ok=False, \n",
    "    )\n",
    "\n",
    "    save_dir = Path(results.save_dir)\n",
    "    print(f\"\\n✓ Training complete!\")\n",
    "    print(f\"✓ Results saved to: {save_dir}\")\n",
    "\n",
    "    print(\"\\nEvaluating model on test images...\")\n",
    "    best_model_path = save_dir / \"weights\" / \"best.pt\"\n",
    "    if not best_model_path.is_file():\n",
    "        print(f\"❌ Error: Best model weights not found at {best_model_path}\")\n",
    "        return\n",
    "\n",
    "    best_model = YOLO(str(best_model_path))\n",
    "\n",
    "    try:\n",
    "        metrics = best_model.val(\n",
    "            split=\"test\", data=str(data_path_obj)\n",
    "        )  \n",
    "        class_names_from_model = (\n",
    "            best_model.names if hasattr(best_model, \"names\") else {}\n",
    "        )\n",
    "        display_results(metrics, class_names_from_model)\n",
    "    except Exception as e:\n",
    "        print(f\"❌ Error during evaluation: {e}\")\n",
    "\n",
    "    print(f\"\\nModel training and evaluation complete!\")\n",
    "    print(f\"Your best trained model is saved at: {best_model_path}\")\n",
    "\n",
    "\n",
    "if __name__ == \"__main__\":\n",
    "    try:\n",
    "        main()\n",
    "    except KeyboardInterrupt:\n",
    "        print(\"\\n\\nTraining stopped by user. Any saved weights can still be used.\")\n",
    "    except Exception as e:\n",
    "        print(f\"\\n❌ An unexpected error occurred: {e}\")\n"
   ]
  },
  {
   "cell_type": "code",
   "execution_count": 10,
   "id": "91947dc0",
   "metadata": {},
   "outputs": [
    {
     "name": "stdout",
     "output_type": "stream",
     "text": [
      "\n",
      "=== Evaluating YOLOv8 Model on Test Set ===\n"
     ]
    },
    {
     "name": "stderr",
     "output_type": "stream",
     "text": [
      "Exception ignored in: <function _MultiProcessingDataLoaderIter.__del__ at 0x0000028850992A60>\n",
      "Traceback (most recent call last):\n",
      "  File \"c:\\ProgramData\\anaconda3\\envs\\tf\\lib\\site-packages\\torch\\utils\\data\\dataloader.py\", line 1663, in __del__\n",
      "    self._shutdown_workers()\n",
      "  File \"c:\\ProgramData\\anaconda3\\envs\\tf\\lib\\site-packages\\torch\\utils\\data\\dataloader.py\", line 1621, in _shutdown_workers\n",
      "    if self._persistent_workers or self._workers_status[worker_id]:\n",
      "AttributeError: '_MultiProcessingDataLoaderIter' object has no attribute '_workers_status'\n"
     ]
    },
    {
     "name": "stdout",
     "output_type": "stream",
     "text": [
      "✅ Loaded model: best.pt\n",
      "Ultralytics 8.3.120  Python-3.9.21 torch-2.7.0+cu128 CUDA:0 (NVIDIA GeForce RTX 3060 Laptop GPU, 6144MiB)\n",
      "Model summary (fused): 92 layers, 25,843,813 parameters, 0 gradients, 78.7 GFLOPs\n",
      "\u001b[34m\u001b[1mval: \u001b[0mFast image access  (ping: 0.10.0 ms, read: 670.5197.7 MB/s, size: 215.1 KB)\n"
     ]
    },
    {
     "name": "stderr",
     "output_type": "stream",
     "text": [
      "\u001b[34m\u001b[1mval: \u001b[0mScanning C:\\Users\\Navneet Sharma\\Documents\\GitHub\\Road-Anomaly-Detection\\dataset\\test\\labels.cache... 2844 images, 0 backgrounds, 0 corrupt: 100%|██████████| 2844/2844 [00:00<?, ?it/s]\n",
      "                 Class     Images  Instances      Box(P          R      mAP50  mAP50-95): 100%|██████████| 178/178 [00:59<00:00,  3.01it/s]\n"
     ]
    },
    {
     "name": "stdout",
     "output_type": "stream",
     "text": [
      "                   all       2844       7696      0.736       0.74      0.745      0.448\n",
      "         Heavy-Vehicle        504        647      0.913      0.978      0.981      0.763\n",
      "         Light-Vehicle        928       2158      0.892      0.951      0.961      0.649\n",
      "            Pedestrian        317        561      0.822      0.915      0.918      0.522\n",
      "                 Crack       1284       2413      0.576      0.484      0.505       0.24\n",
      "          Crack-Severe        722       1005      0.548      0.503      0.493      0.273\n",
      "               Pothole        347        771      0.597       0.44      0.468      0.198\n",
      "            Speed-Bump        135        141      0.804      0.908      0.885      0.487\n",
      "Speed: 0.2ms preprocess, 12.0ms inference, 0.0ms loss, 2.1ms postprocess per image\n",
      "Results saved to \u001b[1mruns\\detect\\val3\u001b[0m\n",
      "\n",
      "📊 Test Set Evaluation Metrics:\n",
      "  - Precision:      0.9128\n",
      "  - Recall:         0.9784\n",
      "  - mAP@0.5:        0.7447\n",
      "  - mAP@0.5:0.95:   0.4476\n",
      "  - F1-score:       0.9445\n",
      "📂 Results saved in: runs\\detect\\val3\n"
     ]
    }
   ],
   "source": [
    "from pathlib import Path\n",
    "from ultralytics import YOLO\n",
    "from ultralytics.utils.metrics import ConfusionMatrix\n",
    "\n",
    "MODEL_PATH = r\".\\RoadDetectionModel\\RoadModel_yolov8m.pt_rounds120_b9\\weights\\best.pt\"\n",
    "DATA_YAML_PATH = r\".\\dataset\\data.yaml\"\n",
    "\n",
    "def evaluate_on_test():\n",
    "    print(\"\\n=== Evaluating YOLOv8 Model on Test Set ===\")\n",
    "\n",
    "    model_path = Path(MODEL_PATH)\n",
    "    if not model_path.is_file():\n",
    "        print(f\"❌ Best model not found at {model_path}\")\n",
    "        return\n",
    "\n",
    "    model = YOLO(str(model_path))\n",
    "\n",
    "    print(f\"✅ Loaded model: {model_path.name}\")\n",
    "\n",
    "    metrics = model.val(split=\"test\", data=DATA_YAML_PATH)\n",
    "\n",
    "    precision = metrics.box.p[0]\n",
    "    recall = metrics.box.r[0]\n",
    "    map50 = metrics.box.map50\n",
    "    map_val = metrics.box.map\n",
    "\n",
    "    f1_score = 2 * (precision * recall) / (precision + recall + 1e-6)\n",
    "\n",
    "    print(\"\\n📊 Test Set Evaluation Metrics:\")\n",
    "    print(f\"  - Precision:      {precision:.4f}\")\n",
    "    print(f\"  - Recall:         {recall:.4f}\")\n",
    "    print(f\"  - mAP@0.5:        {map50:.4f}\")\n",
    "    print(f\"  - mAP@0.5:0.95:   {map_val:.4f}\")\n",
    "    print(f\"  - F1-score:       {f1_score:.4f}\")\n",
    "    print(f\"📂 Results saved in: {metrics.save_dir}\")\n",
    "\n",
    "if __name__ == \"__main__\":\n",
    "    evaluate_on_test()"
   ]
  }
 ],
 "metadata": {
  "kernelspec": {
   "display_name": "tf",
   "language": "python",
   "name": "python3"
  },
  "language_info": {
   "codemirror_mode": {
    "name": "ipython",
    "version": 3
   },
   "file_extension": ".py",
   "mimetype": "text/x-python",
   "name": "python",
   "nbconvert_exporter": "python",
   "pygments_lexer": "ipython3",
   "version": "3.9.21"
  }
 },
 "nbformat": 4,
 "nbformat_minor": 5
}
